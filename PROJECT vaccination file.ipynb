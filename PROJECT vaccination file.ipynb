{
 "cells": [
  {
   "cell_type": "code",
   "execution_count": 2,
   "metadata": {},
   "outputs": [],
   "source": [
    "import pandas as pd\n"
   ]
  },
  {
   "cell_type": "code",
   "execution_count": 3,
   "metadata": {},
   "outputs": [
    {
     "name": "stdout",
     "output_type": "stream",
     "text": [
      "Defaulting to user installation because normal site-packages is not writeable\n",
      "Requirement already satisfied: openpyxl in c:\\users\\lenovo\\appdata\\local\\packages\\pythonsoftwarefoundation.python.3.12_qbz5n2kfra8p0\\localcache\\local-packages\\python312\\site-packages (3.1.5)\n",
      "Requirement already satisfied: et-xmlfile in c:\\users\\lenovo\\appdata\\local\\packages\\pythonsoftwarefoundation.python.3.12_qbz5n2kfra8p0\\localcache\\local-packages\\python312\\site-packages (from openpyxl) (2.0.0)\n",
      "Note: you may need to restart the kernel to use updated packages.\n"
     ]
    },
    {
     "name": "stderr",
     "output_type": "stream",
     "text": [
      "\n",
      "[notice] A new release of pip is available: 24.3.1 -> 25.0.1\n",
      "[notice] To update, run: C:\\Users\\Lenovo\\AppData\\Local\\Microsoft\\WindowsApps\\PythonSoftwareFoundation.Python.3.12_qbz5n2kfra8p0\\python.exe -m pip install --upgrade pip\n"
     ]
    }
   ],
   "source": [
    "pip install openpyxl"
   ]
  },
  {
   "cell_type": "code",
   "execution_count": 4,
   "metadata": {},
   "outputs": [
    {
     "data": {
      "text/plain": [
       "'C:\\\\Users\\\\Lenovo\\\\Desktop\\\\GUVI\\\\PROJECT VACCINATION\\\\vaccine-introduction-data.xlsx'"
      ]
     },
     "execution_count": 4,
     "metadata": {},
     "output_type": "execute_result"
    }
   ],
   "source": [
    "table_1=r\"C:\\Users\\Lenovo\\Desktop\\GUVI\\PROJECT VACCINATION\\vaccine-introduction-data.xlsx\"\n",
    "table_1##r to fix unicode error"
   ]
  },
  {
   "cell_type": "code",
   "execution_count": 5,
   "metadata": {},
   "outputs": [],
   "source": [
    "v_intro_data=pd.read_excel(table_1)\n"
   ]
  },
  {
   "cell_type": "code",
   "execution_count": 6,
   "metadata": {},
   "outputs": [
    {
     "data": {
      "text/html": [
       "<div>\n",
       "<style scoped>\n",
       "    .dataframe tbody tr th:only-of-type {\n",
       "        vertical-align: middle;\n",
       "    }\n",
       "\n",
       "    .dataframe tbody tr th {\n",
       "        vertical-align: top;\n",
       "    }\n",
       "\n",
       "    .dataframe thead th {\n",
       "        text-align: right;\n",
       "    }\n",
       "</style>\n",
       "<table border=\"1\" class=\"dataframe\">\n",
       "  <thead>\n",
       "    <tr style=\"text-align: right;\">\n",
       "      <th></th>\n",
       "      <th>ISO_3_CODE</th>\n",
       "      <th>COUNTRYNAME</th>\n",
       "      <th>WHO_REGION</th>\n",
       "      <th>YEAR</th>\n",
       "      <th>DESCRIPTION</th>\n",
       "      <th>INTRO</th>\n",
       "    </tr>\n",
       "  </thead>\n",
       "  <tbody>\n",
       "    <tr>\n",
       "      <th>0</th>\n",
       "      <td>AFG</td>\n",
       "      <td>Afghanistan</td>\n",
       "      <td>EMRO</td>\n",
       "      <td>2023.0</td>\n",
       "      <td>aP (acellular pertussis) vaccine</td>\n",
       "      <td>No</td>\n",
       "    </tr>\n",
       "    <tr>\n",
       "      <th>1</th>\n",
       "      <td>AFG</td>\n",
       "      <td>Afghanistan</td>\n",
       "      <td>EMRO</td>\n",
       "      <td>2023.0</td>\n",
       "      <td>Hepatitis A vaccine</td>\n",
       "      <td>No</td>\n",
       "    </tr>\n",
       "    <tr>\n",
       "      <th>2</th>\n",
       "      <td>AFG</td>\n",
       "      <td>Afghanistan</td>\n",
       "      <td>EMRO</td>\n",
       "      <td>2023.0</td>\n",
       "      <td>Hepatitis B vaccine</td>\n",
       "      <td>Yes</td>\n",
       "    </tr>\n",
       "    <tr>\n",
       "      <th>3</th>\n",
       "      <td>AFG</td>\n",
       "      <td>Afghanistan</td>\n",
       "      <td>EMRO</td>\n",
       "      <td>2023.0</td>\n",
       "      <td>HepB birth dose</td>\n",
       "      <td>Yes</td>\n",
       "    </tr>\n",
       "    <tr>\n",
       "      <th>4</th>\n",
       "      <td>AFG</td>\n",
       "      <td>Afghanistan</td>\n",
       "      <td>EMRO</td>\n",
       "      <td>2023.0</td>\n",
       "      <td>Hib (Haemophilus influenzae type B) vaccine</td>\n",
       "      <td>Yes</td>\n",
       "    </tr>\n",
       "  </tbody>\n",
       "</table>\n",
       "</div>"
      ],
      "text/plain": [
       "  ISO_3_CODE  COUNTRYNAME WHO_REGION    YEAR  \\\n",
       "0        AFG  Afghanistan       EMRO  2023.0   \n",
       "1        AFG  Afghanistan       EMRO  2023.0   \n",
       "2        AFG  Afghanistan       EMRO  2023.0   \n",
       "3        AFG  Afghanistan       EMRO  2023.0   \n",
       "4        AFG  Afghanistan       EMRO  2023.0   \n",
       "\n",
       "                                   DESCRIPTION INTRO  \n",
       "0             aP (acellular pertussis) vaccine    No  \n",
       "1                          Hepatitis A vaccine    No  \n",
       "2                          Hepatitis B vaccine   Yes  \n",
       "3                              HepB birth dose   Yes  \n",
       "4  Hib (Haemophilus influenzae type B) vaccine   Yes  "
      ]
     },
     "execution_count": 6,
     "metadata": {},
     "output_type": "execute_result"
    }
   ],
   "source": [
    "v_intro_data.head()\n"
   ]
  },
  {
   "cell_type": "code",
   "execution_count": 7,
   "metadata": {},
   "outputs": [
    {
     "name": "stdout",
     "output_type": "stream",
     "text": [
      "<class 'pandas.core.frame.DataFrame'>\n",
      "RangeIndex: 138321 entries, 0 to 138320\n",
      "Data columns (total 6 columns):\n",
      " #   Column       Non-Null Count   Dtype  \n",
      "---  ------       --------------   -----  \n",
      " 0   ISO_3_CODE   138321 non-null  object \n",
      " 1   COUNTRYNAME  138320 non-null  object \n",
      " 2   WHO_REGION   138320 non-null  object \n",
      " 3   YEAR         138320 non-null  float64\n",
      " 4   DESCRIPTION  138320 non-null  object \n",
      " 5   INTRO        138320 non-null  object \n",
      "dtypes: float64(1), object(5)\n",
      "memory usage: 6.3+ MB\n"
     ]
    }
   ],
   "source": [
    "v_intro_data.info()"
   ]
  },
  {
   "cell_type": "code",
   "execution_count": 8,
   "metadata": {},
   "outputs": [
    {
     "data": {
      "text/plain": [
       "np.int64(0)"
      ]
     },
     "execution_count": 8,
     "metadata": {},
     "output_type": "execute_result"
    }
   ],
   "source": [
    "v_intro_data.duplicated().sum()"
   ]
  },
  {
   "cell_type": "code",
   "execution_count": 9,
   "metadata": {},
   "outputs": [
    {
     "data": {
      "text/plain": [
       "ISO_3_CODE     0\n",
       "COUNTRYNAME    1\n",
       "WHO_REGION     1\n",
       "YEAR           1\n",
       "DESCRIPTION    1\n",
       "INTRO          1\n",
       "dtype: int64"
      ]
     },
     "execution_count": 9,
     "metadata": {},
     "output_type": "execute_result"
    }
   ],
   "source": [
    "v_intro_data.isnull().sum()"
   ]
  },
  {
   "cell_type": "code",
   "execution_count": 10,
   "metadata": {},
   "outputs": [],
   "source": [
    "##drop specific null row from specific col \n",
    "v_intro_data.dropna(subset=[\"COUNTRYNAME\"],inplace =True)"
   ]
  },
  {
   "cell_type": "code",
   "execution_count": 11,
   "metadata": {},
   "outputs": [
    {
     "data": {
      "text/plain": [
       "ISO_3_CODE     0\n",
       "COUNTRYNAME    0\n",
       "WHO_REGION     0\n",
       "YEAR           0\n",
       "DESCRIPTION    0\n",
       "INTRO          0\n",
       "dtype: int64"
      ]
     },
     "execution_count": 11,
     "metadata": {},
     "output_type": "execute_result"
    }
   ],
   "source": [
    "##checking the null value again after dropping row\n",
    "v_intro_data.isnull().sum()"
   ]
  },
  {
   "cell_type": "markdown",
   "metadata": {},
   "source": [
    "TABLE 2"
   ]
  },
  {
   "cell_type": "markdown",
   "metadata": {},
   "source": [
    "TABLE 2"
   ]
  },
  {
   "cell_type": "code",
   "execution_count": 12,
   "metadata": {},
   "outputs": [
    {
     "data": {
      "text/plain": [
       "'C:\\\\Users\\\\Lenovo\\\\Desktop\\\\GUVI\\\\PROJECT VACCINATION\\\\incidence-rate-data.xlsx'"
      ]
     },
     "execution_count": 12,
     "metadata": {},
     "output_type": "execute_result"
    }
   ],
   "source": [
    "table_2=r\"C:\\Users\\Lenovo\\Desktop\\GUVI\\PROJECT VACCINATION\\incidence-rate-data.xlsx\"\n",
    "table_2"
   ]
  },
  {
   "cell_type": "code",
   "execution_count": 13,
   "metadata": {},
   "outputs": [
    {
     "data": {
      "text/html": [
       "<div>\n",
       "<style scoped>\n",
       "    .dataframe tbody tr th:only-of-type {\n",
       "        vertical-align: middle;\n",
       "    }\n",
       "\n",
       "    .dataframe tbody tr th {\n",
       "        vertical-align: top;\n",
       "    }\n",
       "\n",
       "    .dataframe thead th {\n",
       "        text-align: right;\n",
       "    }\n",
       "</style>\n",
       "<table border=\"1\" class=\"dataframe\">\n",
       "  <thead>\n",
       "    <tr style=\"text-align: right;\">\n",
       "      <th></th>\n",
       "      <th>GROUP</th>\n",
       "      <th>CODE</th>\n",
       "      <th>NAME</th>\n",
       "      <th>YEAR</th>\n",
       "      <th>DISEASE</th>\n",
       "      <th>DISEASE_DESCRIPTION</th>\n",
       "      <th>DENOMINATOR</th>\n",
       "      <th>INCIDENCE_RATE</th>\n",
       "    </tr>\n",
       "  </thead>\n",
       "  <tbody>\n",
       "    <tr>\n",
       "      <th>0</th>\n",
       "      <td>COUNTRIES</td>\n",
       "      <td>ABW</td>\n",
       "      <td>Aruba</td>\n",
       "      <td>2023.0</td>\n",
       "      <td>CRS</td>\n",
       "      <td>Congenital rubella syndrome</td>\n",
       "      <td>per 10,000 live births</td>\n",
       "      <td>0.0</td>\n",
       "    </tr>\n",
       "    <tr>\n",
       "      <th>1</th>\n",
       "      <td>COUNTRIES</td>\n",
       "      <td>ABW</td>\n",
       "      <td>Aruba</td>\n",
       "      <td>2023.0</td>\n",
       "      <td>DIPHTHERIA</td>\n",
       "      <td>Diphtheria</td>\n",
       "      <td>per 1,000,000 total population</td>\n",
       "      <td>0.0</td>\n",
       "    </tr>\n",
       "    <tr>\n",
       "      <th>2</th>\n",
       "      <td>COUNTRIES</td>\n",
       "      <td>ABW</td>\n",
       "      <td>Aruba</td>\n",
       "      <td>2023.0</td>\n",
       "      <td>INVASIVE_MENING</td>\n",
       "      <td>Invasive meningococcal disease</td>\n",
       "      <td>per 1,000,000 total population</td>\n",
       "      <td>9.3</td>\n",
       "    </tr>\n",
       "    <tr>\n",
       "      <th>3</th>\n",
       "      <td>COUNTRIES</td>\n",
       "      <td>ABW</td>\n",
       "      <td>Aruba</td>\n",
       "      <td>2023.0</td>\n",
       "      <td>MEASLES</td>\n",
       "      <td>Measles</td>\n",
       "      <td>per 1,000,000 total population</td>\n",
       "      <td>NaN</td>\n",
       "    </tr>\n",
       "    <tr>\n",
       "      <th>4</th>\n",
       "      <td>COUNTRIES</td>\n",
       "      <td>ABW</td>\n",
       "      <td>Aruba</td>\n",
       "      <td>2023.0</td>\n",
       "      <td>MUMPS</td>\n",
       "      <td>Mumps</td>\n",
       "      <td>per 1,000,000 total population</td>\n",
       "      <td>0.0</td>\n",
       "    </tr>\n",
       "    <tr>\n",
       "      <th>...</th>\n",
       "      <td>...</td>\n",
       "      <td>...</td>\n",
       "      <td>...</td>\n",
       "      <td>...</td>\n",
       "      <td>...</td>\n",
       "      <td>...</td>\n",
       "      <td>...</td>\n",
       "      <td>...</td>\n",
       "    </tr>\n",
       "    <tr>\n",
       "      <th>84941</th>\n",
       "      <td>COUNTRIES</td>\n",
       "      <td>ZWE</td>\n",
       "      <td>Zimbabwe</td>\n",
       "      <td>1980.0</td>\n",
       "      <td>PERTUSSIS</td>\n",
       "      <td>Pertussis</td>\n",
       "      <td>per 1,000,000 total population</td>\n",
       "      <td>893.3</td>\n",
       "    </tr>\n",
       "    <tr>\n",
       "      <th>84942</th>\n",
       "      <td>COUNTRIES</td>\n",
       "      <td>ZWE</td>\n",
       "      <td>Zimbabwe</td>\n",
       "      <td>1980.0</td>\n",
       "      <td>POLIO</td>\n",
       "      <td>Poliomyelitis</td>\n",
       "      <td>per 1,000,000 &lt;15 population</td>\n",
       "      <td>NaN</td>\n",
       "    </tr>\n",
       "    <tr>\n",
       "      <th>84943</th>\n",
       "      <td>COUNTRIES</td>\n",
       "      <td>ZWE</td>\n",
       "      <td>Zimbabwe</td>\n",
       "      <td>1980.0</td>\n",
       "      <td>TTETANUS</td>\n",
       "      <td>Total tetanus</td>\n",
       "      <td>per 1,000,000 total population</td>\n",
       "      <td>19.7</td>\n",
       "    </tr>\n",
       "    <tr>\n",
       "      <th>84944</th>\n",
       "      <td>COUNTRIES</td>\n",
       "      <td>ZWE</td>\n",
       "      <td>Zimbabwe</td>\n",
       "      <td>1980.0</td>\n",
       "      <td>YFEVER</td>\n",
       "      <td>Yellow fever</td>\n",
       "      <td>per 1,000,000 total population</td>\n",
       "      <td>NaN</td>\n",
       "    </tr>\n",
       "    <tr>\n",
       "      <th>84945</th>\n",
       "      <td>Created: 2025-02-01 16:03 UTC</td>\n",
       "      <td>NaN</td>\n",
       "      <td>NaN</td>\n",
       "      <td>NaN</td>\n",
       "      <td>NaN</td>\n",
       "      <td>NaN</td>\n",
       "      <td>NaN</td>\n",
       "      <td>NaN</td>\n",
       "    </tr>\n",
       "  </tbody>\n",
       "</table>\n",
       "<p>84946 rows × 8 columns</p>\n",
       "</div>"
      ],
      "text/plain": [
       "                               GROUP CODE      NAME    YEAR          DISEASE  \\\n",
       "0                          COUNTRIES  ABW     Aruba  2023.0              CRS   \n",
       "1                          COUNTRIES  ABW     Aruba  2023.0       DIPHTHERIA   \n",
       "2                          COUNTRIES  ABW     Aruba  2023.0  INVASIVE_MENING   \n",
       "3                          COUNTRIES  ABW     Aruba  2023.0          MEASLES   \n",
       "4                          COUNTRIES  ABW     Aruba  2023.0            MUMPS   \n",
       "...                              ...  ...       ...     ...              ...   \n",
       "84941                      COUNTRIES  ZWE  Zimbabwe  1980.0        PERTUSSIS   \n",
       "84942                      COUNTRIES  ZWE  Zimbabwe  1980.0            POLIO   \n",
       "84943                      COUNTRIES  ZWE  Zimbabwe  1980.0         TTETANUS   \n",
       "84944                      COUNTRIES  ZWE  Zimbabwe  1980.0           YFEVER   \n",
       "84945  Created: 2025-02-01 16:03 UTC  NaN       NaN     NaN              NaN   \n",
       "\n",
       "                  DISEASE_DESCRIPTION                     DENOMINATOR  \\\n",
       "0         Congenital rubella syndrome          per 10,000 live births   \n",
       "1                          Diphtheria  per 1,000,000 total population   \n",
       "2      Invasive meningococcal disease  per 1,000,000 total population   \n",
       "3                             Measles  per 1,000,000 total population   \n",
       "4                               Mumps  per 1,000,000 total population   \n",
       "...                               ...                             ...   \n",
       "84941                       Pertussis  per 1,000,000 total population   \n",
       "84942                   Poliomyelitis    per 1,000,000 <15 population   \n",
       "84943                   Total tetanus  per 1,000,000 total population   \n",
       "84944                    Yellow fever  per 1,000,000 total population   \n",
       "84945                             NaN                             NaN   \n",
       "\n",
       "       INCIDENCE_RATE  \n",
       "0                 0.0  \n",
       "1                 0.0  \n",
       "2                 9.3  \n",
       "3                 NaN  \n",
       "4                 0.0  \n",
       "...               ...  \n",
       "84941           893.3  \n",
       "84942             NaN  \n",
       "84943            19.7  \n",
       "84944             NaN  \n",
       "84945             NaN  \n",
       "\n",
       "[84946 rows x 8 columns]"
      ]
     },
     "execution_count": 13,
     "metadata": {},
     "output_type": "execute_result"
    }
   ],
   "source": [
    "incidence_data=pd.read_excel(table_2)\n",
    "incidence_data"
   ]
  },
  {
   "cell_type": "code",
   "execution_count": 14,
   "metadata": {},
   "outputs": [],
   "source": [
    "incidence_data.rename(columns={\"GROUP\":\"GROUP_TYPE\"},inplace=True)"
   ]
  },
  {
   "cell_type": "code",
   "execution_count": 15,
   "metadata": {},
   "outputs": [
    {
     "name": "stdout",
     "output_type": "stream",
     "text": [
      "<class 'pandas.core.frame.DataFrame'>\n",
      "RangeIndex: 84946 entries, 0 to 84945\n",
      "Data columns (total 8 columns):\n",
      " #   Column               Non-Null Count  Dtype  \n",
      "---  ------               --------------  -----  \n",
      " 0   GROUP_TYPE           84946 non-null  object \n",
      " 1   CODE                 84945 non-null  object \n",
      " 2   NAME                 84945 non-null  object \n",
      " 3   YEAR                 84945 non-null  float64\n",
      " 4   DISEASE              84945 non-null  object \n",
      " 5   DISEASE_DESCRIPTION  84945 non-null  object \n",
      " 6   DENOMINATOR          84945 non-null  object \n",
      " 7   INCIDENCE_RATE       61584 non-null  float64\n",
      "dtypes: float64(2), object(6)\n",
      "memory usage: 5.2+ MB\n"
     ]
    }
   ],
   "source": [
    "incidence_data.info()"
   ]
  },
  {
   "cell_type": "code",
   "execution_count": 16,
   "metadata": {},
   "outputs": [
    {
     "data": {
      "text/plain": [
       "GROUP_TYPE                 0\n",
       "CODE                       1\n",
       "NAME                       1\n",
       "YEAR                       1\n",
       "DISEASE                    1\n",
       "DISEASE_DESCRIPTION        1\n",
       "DENOMINATOR                1\n",
       "INCIDENCE_RATE         23362\n",
       "dtype: int64"
      ]
     },
     "execution_count": 16,
     "metadata": {},
     "output_type": "execute_result"
    }
   ],
   "source": [
    "incidence_data.isna().sum()"
   ]
  },
  {
   "cell_type": "code",
   "execution_count": 17,
   "metadata": {},
   "outputs": [],
   "source": [
    "##drop specific null row from specific col \n",
    "incidence_data.dropna(subset=[\"NAME\"],inplace =True)"
   ]
  },
  {
   "cell_type": "code",
   "execution_count": 18,
   "metadata": {},
   "outputs": [
    {
     "data": {
      "text/plain": [
       "GROUP_TYPE                 0\n",
       "CODE                       0\n",
       "NAME                       0\n",
       "YEAR                       0\n",
       "DISEASE                    0\n",
       "DISEASE_DESCRIPTION        0\n",
       "DENOMINATOR                0\n",
       "INCIDENCE_RATE         23361\n",
       "dtype: int64"
      ]
     },
     "execution_count": 18,
     "metadata": {},
     "output_type": "execute_result"
    }
   ],
   "source": [
    "incidence_data.isnull().sum()"
   ]
  },
  {
   "cell_type": "code",
   "execution_count": 19,
   "metadata": {},
   "outputs": [],
   "source": [
    "# Create a mask for NaN values before filling\n",
    "nan_mask = incidence_data['INCIDENCE_RATE'].isna()"
   ]
  },
  {
   "cell_type": "code",
   "execution_count": 20,
   "metadata": {},
   "outputs": [
    {
     "data": {
      "text/plain": [
       "np.int64(0)"
      ]
     },
     "execution_count": 20,
     "metadata": {},
     "output_type": "execute_result"
    }
   ],
   "source": [
    "incidence_data.duplicated().sum()"
   ]
  },
  {
   "cell_type": "code",
   "execution_count": 21,
   "metadata": {},
   "outputs": [
    {
     "data": {
      "text/html": [
       "<div>\n",
       "<style scoped>\n",
       "    .dataframe tbody tr th:only-of-type {\n",
       "        vertical-align: middle;\n",
       "    }\n",
       "\n",
       "    .dataframe tbody tr th {\n",
       "        vertical-align: top;\n",
       "    }\n",
       "\n",
       "    .dataframe thead th {\n",
       "        text-align: right;\n",
       "    }\n",
       "</style>\n",
       "<table border=\"1\" class=\"dataframe\">\n",
       "  <thead>\n",
       "    <tr style=\"text-align: right;\">\n",
       "      <th></th>\n",
       "      <th>YEAR</th>\n",
       "      <th>INCIDENCE_RATE</th>\n",
       "    </tr>\n",
       "  </thead>\n",
       "  <tbody>\n",
       "    <tr>\n",
       "      <th>count</th>\n",
       "      <td>84945.000000</td>\n",
       "      <td>61584.000000</td>\n",
       "    </tr>\n",
       "    <tr>\n",
       "      <th>mean</th>\n",
       "      <td>2004.095791</td>\n",
       "      <td>109.448781</td>\n",
       "    </tr>\n",
       "    <tr>\n",
       "      <th>std</th>\n",
       "      <td>12.595166</td>\n",
       "      <td>992.276983</td>\n",
       "    </tr>\n",
       "    <tr>\n",
       "      <th>min</th>\n",
       "      <td>1980.000000</td>\n",
       "      <td>0.000000</td>\n",
       "    </tr>\n",
       "    <tr>\n",
       "      <th>25%</th>\n",
       "      <td>1994.000000</td>\n",
       "      <td>0.000000</td>\n",
       "    </tr>\n",
       "    <tr>\n",
       "      <th>50%</th>\n",
       "      <td>2005.000000</td>\n",
       "      <td>0.000000</td>\n",
       "    </tr>\n",
       "    <tr>\n",
       "      <th>75%</th>\n",
       "      <td>2015.000000</td>\n",
       "      <td>4.600000</td>\n",
       "    </tr>\n",
       "    <tr>\n",
       "      <th>max</th>\n",
       "      <td>2023.000000</td>\n",
       "      <td>69101.300000</td>\n",
       "    </tr>\n",
       "  </tbody>\n",
       "</table>\n",
       "</div>"
      ],
      "text/plain": [
       "               YEAR  INCIDENCE_RATE\n",
       "count  84945.000000    61584.000000\n",
       "mean    2004.095791      109.448781\n",
       "std       12.595166      992.276983\n",
       "min     1980.000000        0.000000\n",
       "25%     1994.000000        0.000000\n",
       "50%     2005.000000        0.000000\n",
       "75%     2015.000000        4.600000\n",
       "max     2023.000000    69101.300000"
      ]
     },
     "execution_count": 21,
     "metadata": {},
     "output_type": "execute_result"
    }
   ],
   "source": [
    "incidence_data.describe()"
   ]
  },
  {
   "cell_type": "code",
   "execution_count": 22,
   "metadata": {},
   "outputs": [
    {
     "data": {
      "text/plain": [
       "0           Aruba\n",
       "1           Aruba\n",
       "2           Aruba\n",
       "3           Aruba\n",
       "4           Aruba\n",
       "           ...   \n",
       "84940    Zimbabwe\n",
       "84941    Zimbabwe\n",
       "84942    Zimbabwe\n",
       "84943    Zimbabwe\n",
       "84944    Zimbabwe\n",
       "Name: NAME, Length: 84945, dtype: object"
      ]
     },
     "execution_count": 22,
     "metadata": {},
     "output_type": "execute_result"
    }
   ],
   "source": [
    "incidence_data[\"NAME\"]"
   ]
  },
  {
   "cell_type": "code",
   "execution_count": 23,
   "metadata": {},
   "outputs": [
    {
     "data": {
      "text/plain": [
       "NAME\n",
       "Global                                                                    424\n",
       "South-East Asia Region                                                    415\n",
       "European Region                                                           414\n",
       "Thailand                                                                  414\n",
       "African Region                                                            411\n",
       "                                                                         ... \n",
       "occupied Palestinian territory, including east Jerusalem                  142\n",
       "Aruba                                                                      67\n",
       "Kosovo (in accordance with UN Security Council resolution 1244 (1999))     46\n",
       "Curaçao                                                                    30\n",
       "Sint Maarten (Dutch part)                                                  21\n",
       "Name: count, Length: 221, dtype: int64"
      ]
     },
     "execution_count": 23,
     "metadata": {},
     "output_type": "execute_result"
    }
   ],
   "source": [
    "##groupby \n",
    "incidence_data[\"NAME\"].value_counts()"
   ]
  },
  {
   "cell_type": "code",
   "execution_count": 24,
   "metadata": {},
   "outputs": [
    {
     "data": {
      "text/plain": [
       "NAME\n",
       "Afghanistan                                                 115.708261\n",
       "African Region                                              189.389770\n",
       "Albania                                                     161.776190\n",
       "Algeria                                                      42.426296\n",
       "American Samoa                                               97.019394\n",
       "                                                               ...    \n",
       "Western Pacific Region                                       50.552815\n",
       "Yemen                                                       206.285593\n",
       "Zambia                                                      477.317895\n",
       "Zimbabwe                                                    172.841892\n",
       "occupied Palestinian territory, including east Jerusalem     18.731429\n",
       "Name: INCIDENCE_RATE, Length: 221, dtype: float64"
      ]
     },
     "execution_count": 24,
     "metadata": {},
     "output_type": "execute_result"
    }
   ],
   "source": [
    "grouped_df=incidence_data.groupby([\"NAME\"])[\"INCIDENCE_RATE\"].mean()\n",
    "grouped_df"
   ]
  },
  {
   "cell_type": "code",
   "execution_count": 25,
   "metadata": {},
   "outputs": [],
   "source": [
    "##REPLACING THE NULL VALUE groupby name of the countries where value is null\n",
    "incidence_data['INCIDENCE_RATE'] = incidence_data['INCIDENCE_RATE'].fillna(incidence_data.groupby('NAME')['INCIDENCE_RATE'].transform('mean'))"
   ]
  },
  {
   "cell_type": "code",
   "execution_count": 26,
   "metadata": {},
   "outputs": [
    {
     "data": {
      "text/plain": [
       "GROUP_TYPE             0\n",
       "CODE                   0\n",
       "NAME                   0\n",
       "YEAR                   0\n",
       "DISEASE                0\n",
       "DISEASE_DESCRIPTION    0\n",
       "DENOMINATOR            0\n",
       "INCIDENCE_RATE         0\n",
       "dtype: int64"
      ]
     },
     "execution_count": 26,
     "metadata": {},
     "output_type": "execute_result"
    }
   ],
   "source": [
    "##again checking the null value after replacing \n",
    "incidence_data.isnull().sum()"
   ]
  },
  {
   "cell_type": "code",
   "execution_count": 27,
   "metadata": {},
   "outputs": [],
   "source": [
    "# Create a new column to indicate where NaN was replaced\n",
    "incidence_data['replaced_with_mean'] = nan_mask"
   ]
  },
  {
   "cell_type": "code",
   "execution_count": 28,
   "metadata": {},
   "outputs": [
    {
     "name": "stdout",
     "output_type": "stream",
     "text": [
      "      GROUP_TYPE CODE         NAME    YEAR          DISEASE  \\\n",
      "3      COUNTRIES  ABW        Aruba  2023.0          MEASLES   \n",
      "8      COUNTRIES  ABW        Aruba  2023.0          RUBELLA   \n",
      "38     COUNTRIES  ABW        Aruba  2019.0           JAPENC   \n",
      "49     COUNTRIES  ABW        Aruba  2018.0           JAPENC   \n",
      "69     COUNTRIES  AFG  Afghanistan  2023.0  INVASIVE_MENING   \n",
      "...          ...  ...          ...     ...              ...   \n",
      "84930  COUNTRIES  ZWE     Zimbabwe  1982.0           YFEVER   \n",
      "84935  COUNTRIES  ZWE     Zimbabwe  1981.0            POLIO   \n",
      "84937  COUNTRIES  ZWE     Zimbabwe  1981.0           YFEVER   \n",
      "84942  COUNTRIES  ZWE     Zimbabwe  1980.0            POLIO   \n",
      "84944  COUNTRIES  ZWE     Zimbabwe  1980.0           YFEVER   \n",
      "\n",
      "                  DISEASE_DESCRIPTION                     DENOMINATOR  \\\n",
      "3                             Measles  per 1,000,000 total population   \n",
      "8                             Rubella  per 1,000,000 total population   \n",
      "38              Japanese encephalitis  per 1,000,000 total population   \n",
      "49              Japanese encephalitis  per 1,000,000 total population   \n",
      "69     Invasive meningococcal disease  per 1,000,000 total population   \n",
      "...                               ...                             ...   \n",
      "84930                    Yellow fever  per 1,000,000 total population   \n",
      "84935                   Poliomyelitis    per 1,000,000 <15 population   \n",
      "84937                    Yellow fever  per 1,000,000 total population   \n",
      "84942                   Poliomyelitis    per 1,000,000 <15 population   \n",
      "84944                    Yellow fever  per 1,000,000 total population   \n",
      "\n",
      "       INCIDENCE_RATE  replaced_with_mean  \n",
      "3            2.377778                True  \n",
      "8            2.377778                True  \n",
      "38           2.377778                True  \n",
      "49           2.377778                True  \n",
      "69         115.708261                True  \n",
      "...               ...                 ...  \n",
      "84930      172.841892                True  \n",
      "84935      172.841892                True  \n",
      "84937      172.841892                True  \n",
      "84942      172.841892                True  \n",
      "84944      172.841892                True  \n",
      "\n",
      "[23361 rows x 9 columns]\n"
     ]
    }
   ],
   "source": [
    "# Show rows where NaN was replaced\n",
    "print(incidence_data[incidence_data['replaced_with_mean']])"
   ]
  },
  {
   "cell_type": "code",
   "execution_count": 29,
   "metadata": {},
   "outputs": [
    {
     "data": {
      "text/html": [
       "<div>\n",
       "<style scoped>\n",
       "    .dataframe tbody tr th:only-of-type {\n",
       "        vertical-align: middle;\n",
       "    }\n",
       "\n",
       "    .dataframe tbody tr th {\n",
       "        vertical-align: top;\n",
       "    }\n",
       "\n",
       "    .dataframe thead th {\n",
       "        text-align: right;\n",
       "    }\n",
       "</style>\n",
       "<table border=\"1\" class=\"dataframe\">\n",
       "  <thead>\n",
       "    <tr style=\"text-align: right;\">\n",
       "      <th></th>\n",
       "      <th>GROUP_TYPE</th>\n",
       "      <th>CODE</th>\n",
       "      <th>NAME</th>\n",
       "      <th>YEAR</th>\n",
       "      <th>DISEASE</th>\n",
       "      <th>DISEASE_DESCRIPTION</th>\n",
       "      <th>DENOMINATOR</th>\n",
       "      <th>INCIDENCE_RATE</th>\n",
       "      <th>replaced_with_mean</th>\n",
       "    </tr>\n",
       "  </thead>\n",
       "  <tbody>\n",
       "    <tr>\n",
       "      <th>84940</th>\n",
       "      <td>COUNTRIES</td>\n",
       "      <td>ZWE</td>\n",
       "      <td>Zimbabwe</td>\n",
       "      <td>1980.0</td>\n",
       "      <td>NTETANUS</td>\n",
       "      <td>Neonatal tetanus</td>\n",
       "      <td>per 1,000 live births</td>\n",
       "      <td>0.400000</td>\n",
       "      <td>False</td>\n",
       "    </tr>\n",
       "    <tr>\n",
       "      <th>84941</th>\n",
       "      <td>COUNTRIES</td>\n",
       "      <td>ZWE</td>\n",
       "      <td>Zimbabwe</td>\n",
       "      <td>1980.0</td>\n",
       "      <td>PERTUSSIS</td>\n",
       "      <td>Pertussis</td>\n",
       "      <td>per 1,000,000 total population</td>\n",
       "      <td>893.300000</td>\n",
       "      <td>False</td>\n",
       "    </tr>\n",
       "    <tr>\n",
       "      <th>84942</th>\n",
       "      <td>COUNTRIES</td>\n",
       "      <td>ZWE</td>\n",
       "      <td>Zimbabwe</td>\n",
       "      <td>1980.0</td>\n",
       "      <td>POLIO</td>\n",
       "      <td>Poliomyelitis</td>\n",
       "      <td>per 1,000,000 &lt;15 population</td>\n",
       "      <td>172.841892</td>\n",
       "      <td>True</td>\n",
       "    </tr>\n",
       "    <tr>\n",
       "      <th>84943</th>\n",
       "      <td>COUNTRIES</td>\n",
       "      <td>ZWE</td>\n",
       "      <td>Zimbabwe</td>\n",
       "      <td>1980.0</td>\n",
       "      <td>TTETANUS</td>\n",
       "      <td>Total tetanus</td>\n",
       "      <td>per 1,000,000 total population</td>\n",
       "      <td>19.700000</td>\n",
       "      <td>False</td>\n",
       "    </tr>\n",
       "    <tr>\n",
       "      <th>84944</th>\n",
       "      <td>COUNTRIES</td>\n",
       "      <td>ZWE</td>\n",
       "      <td>Zimbabwe</td>\n",
       "      <td>1980.0</td>\n",
       "      <td>YFEVER</td>\n",
       "      <td>Yellow fever</td>\n",
       "      <td>per 1,000,000 total population</td>\n",
       "      <td>172.841892</td>\n",
       "      <td>True</td>\n",
       "    </tr>\n",
       "  </tbody>\n",
       "</table>\n",
       "</div>"
      ],
      "text/plain": [
       "      GROUP_TYPE CODE      NAME    YEAR    DISEASE DISEASE_DESCRIPTION  \\\n",
       "84940  COUNTRIES  ZWE  Zimbabwe  1980.0   NTETANUS    Neonatal tetanus   \n",
       "84941  COUNTRIES  ZWE  Zimbabwe  1980.0  PERTUSSIS           Pertussis   \n",
       "84942  COUNTRIES  ZWE  Zimbabwe  1980.0      POLIO       Poliomyelitis   \n",
       "84943  COUNTRIES  ZWE  Zimbabwe  1980.0   TTETANUS       Total tetanus   \n",
       "84944  COUNTRIES  ZWE  Zimbabwe  1980.0     YFEVER        Yellow fever   \n",
       "\n",
       "                          DENOMINATOR  INCIDENCE_RATE  replaced_with_mean  \n",
       "84940           per 1,000 live births        0.400000               False  \n",
       "84941  per 1,000,000 total population      893.300000               False  \n",
       "84942    per 1,000,000 <15 population      172.841892                True  \n",
       "84943  per 1,000,000 total population       19.700000               False  \n",
       "84944  per 1,000,000 total population      172.841892                True  "
      ]
     },
     "execution_count": 29,
     "metadata": {},
     "output_type": "execute_result"
    }
   ],
   "source": [
    "incidence_data.tail()"
   ]
  },
  {
   "cell_type": "code",
   "execution_count": 30,
   "metadata": {},
   "outputs": [
    {
     "data": {
      "text/html": [
       "<div>\n",
       "<style scoped>\n",
       "    .dataframe tbody tr th:only-of-type {\n",
       "        vertical-align: middle;\n",
       "    }\n",
       "\n",
       "    .dataframe tbody tr th {\n",
       "        vertical-align: top;\n",
       "    }\n",
       "\n",
       "    .dataframe thead th {\n",
       "        text-align: right;\n",
       "    }\n",
       "</style>\n",
       "<table border=\"1\" class=\"dataframe\">\n",
       "  <thead>\n",
       "    <tr style=\"text-align: right;\">\n",
       "      <th></th>\n",
       "      <th>GROUP_TYPE</th>\n",
       "      <th>CODE</th>\n",
       "      <th>NAME</th>\n",
       "      <th>YEAR</th>\n",
       "      <th>DISEASE</th>\n",
       "      <th>DISEASE_DESCRIPTION</th>\n",
       "      <th>DENOMINATOR</th>\n",
       "      <th>INCIDENCE_RATE</th>\n",
       "      <th>replaced_with_mean</th>\n",
       "    </tr>\n",
       "  </thead>\n",
       "  <tbody>\n",
       "    <tr>\n",
       "      <th>1738</th>\n",
       "      <td>COUNTRIES</td>\n",
       "      <td>ALB</td>\n",
       "      <td>Albania</td>\n",
       "      <td>2009.0</td>\n",
       "      <td>TTETANUS</td>\n",
       "      <td>Total tetanus</td>\n",
       "      <td>per 1,000,000 total population</td>\n",
       "      <td>0.000000</td>\n",
       "      <td>False</td>\n",
       "    </tr>\n",
       "    <tr>\n",
       "      <th>42243</th>\n",
       "      <td>COUNTRIES</td>\n",
       "      <td>KWT</td>\n",
       "      <td>Kuwait</td>\n",
       "      <td>1996.0</td>\n",
       "      <td>YFEVER</td>\n",
       "      <td>Yellow fever</td>\n",
       "      <td>per 1,000,000 total population</td>\n",
       "      <td>32.917004</td>\n",
       "      <td>True</td>\n",
       "    </tr>\n",
       "    <tr>\n",
       "      <th>72784</th>\n",
       "      <td>COUNTRIES</td>\n",
       "      <td>SYR</td>\n",
       "      <td>Syrian Arab Republic</td>\n",
       "      <td>2006.0</td>\n",
       "      <td>RUBELLA</td>\n",
       "      <td>Rubella</td>\n",
       "      <td>per 1,000,000 total population</td>\n",
       "      <td>1.500000</td>\n",
       "      <td>False</td>\n",
       "    </tr>\n",
       "    <tr>\n",
       "      <th>18433</th>\n",
       "      <td>COUNTRIES</td>\n",
       "      <td>CUB</td>\n",
       "      <td>Cuba</td>\n",
       "      <td>2022.0</td>\n",
       "      <td>POLIO</td>\n",
       "      <td>Poliomyelitis</td>\n",
       "      <td>per 1,000,000 &lt;15 population</td>\n",
       "      <td>0.000000</td>\n",
       "      <td>False</td>\n",
       "    </tr>\n",
       "    <tr>\n",
       "      <th>36714</th>\n",
       "      <td>COUNTRIES</td>\n",
       "      <td>IRQ</td>\n",
       "      <td>Iraq</td>\n",
       "      <td>1990.0</td>\n",
       "      <td>PERTUSSIS</td>\n",
       "      <td>Pertussis</td>\n",
       "      <td>per 1,000,000 total population</td>\n",
       "      <td>6.900000</td>\n",
       "      <td>False</td>\n",
       "    </tr>\n",
       "  </tbody>\n",
       "</table>\n",
       "</div>"
      ],
      "text/plain": [
       "      GROUP_TYPE CODE                  NAME    YEAR    DISEASE  \\\n",
       "1738   COUNTRIES  ALB               Albania  2009.0   TTETANUS   \n",
       "42243  COUNTRIES  KWT                Kuwait  1996.0     YFEVER   \n",
       "72784  COUNTRIES  SYR  Syrian Arab Republic  2006.0    RUBELLA   \n",
       "18433  COUNTRIES  CUB                  Cuba  2022.0      POLIO   \n",
       "36714  COUNTRIES  IRQ                  Iraq  1990.0  PERTUSSIS   \n",
       "\n",
       "      DISEASE_DESCRIPTION                     DENOMINATOR  INCIDENCE_RATE  \\\n",
       "1738        Total tetanus  per 1,000,000 total population        0.000000   \n",
       "42243        Yellow fever  per 1,000,000 total population       32.917004   \n",
       "72784             Rubella  per 1,000,000 total population        1.500000   \n",
       "18433       Poliomyelitis    per 1,000,000 <15 population        0.000000   \n",
       "36714           Pertussis  per 1,000,000 total population        6.900000   \n",
       "\n",
       "       replaced_with_mean  \n",
       "1738                False  \n",
       "42243                True  \n",
       "72784               False  \n",
       "18433               False  \n",
       "36714               False  "
      ]
     },
     "execution_count": 30,
     "metadata": {},
     "output_type": "execute_result"
    }
   ],
   "source": [
    "incidence_data.sample(5)"
   ]
  },
  {
   "cell_type": "code",
   "execution_count": 31,
   "metadata": {},
   "outputs": [
    {
     "data": {
      "text/plain": [
       "'c:\\\\Users\\\\Lenovo\\\\Desktop\\\\GUVI\\\\PROJECT VACCINATION\\\\reported-cases-data.xlsx'"
      ]
     },
     "execution_count": 31,
     "metadata": {},
     "output_type": "execute_result"
    }
   ],
   "source": [
    "table_3=r\"c:\\Users\\Lenovo\\Desktop\\GUVI\\PROJECT VACCINATION\\reported-cases-data.xlsx\"\n",
    "table_3"
   ]
  },
  {
   "cell_type": "code",
   "execution_count": 102,
   "metadata": {},
   "outputs": [],
   "source": [
    "reported_case.rename(columns={\"GROUP\":\"GROUP_TYPE\"},inplace=True)"
   ]
  },
  {
   "cell_type": "code",
   "execution_count": 101,
   "metadata": {},
   "outputs": [
    {
     "data": {
      "text/html": [
       "<div>\n",
       "<style scoped>\n",
       "    .dataframe tbody tr th:only-of-type {\n",
       "        vertical-align: middle;\n",
       "    }\n",
       "\n",
       "    .dataframe tbody tr th {\n",
       "        vertical-align: top;\n",
       "    }\n",
       "\n",
       "    .dataframe thead th {\n",
       "        text-align: right;\n",
       "    }\n",
       "</style>\n",
       "<table border=\"1\" class=\"dataframe\">\n",
       "  <thead>\n",
       "    <tr style=\"text-align: right;\">\n",
       "      <th></th>\n",
       "      <th>GROUP</th>\n",
       "      <th>CODE</th>\n",
       "      <th>NAME</th>\n",
       "      <th>YEAR</th>\n",
       "      <th>DISEASE</th>\n",
       "      <th>DISEASE_DESCRIPTION</th>\n",
       "      <th>CASES</th>\n",
       "    </tr>\n",
       "  </thead>\n",
       "  <tbody>\n",
       "    <tr>\n",
       "      <th>0</th>\n",
       "      <td>COUNTRIES</td>\n",
       "      <td>ABW</td>\n",
       "      <td>Aruba</td>\n",
       "      <td>2023.0</td>\n",
       "      <td>CRS</td>\n",
       "      <td>Congenital rubella syndrome</td>\n",
       "      <td>0.0</td>\n",
       "    </tr>\n",
       "    <tr>\n",
       "      <th>1</th>\n",
       "      <td>COUNTRIES</td>\n",
       "      <td>ABW</td>\n",
       "      <td>Aruba</td>\n",
       "      <td>2023.0</td>\n",
       "      <td>DIPHTHERIA</td>\n",
       "      <td>Diphtheria</td>\n",
       "      <td>0.0</td>\n",
       "    </tr>\n",
       "    <tr>\n",
       "      <th>2</th>\n",
       "      <td>COUNTRIES</td>\n",
       "      <td>ABW</td>\n",
       "      <td>Aruba</td>\n",
       "      <td>2023.0</td>\n",
       "      <td>INVASIVE_MENING</td>\n",
       "      <td>Invasive meningococcal disease</td>\n",
       "      <td>1.0</td>\n",
       "    </tr>\n",
       "    <tr>\n",
       "      <th>3</th>\n",
       "      <td>COUNTRIES</td>\n",
       "      <td>ABW</td>\n",
       "      <td>Aruba</td>\n",
       "      <td>2023.0</td>\n",
       "      <td>MEASLES</td>\n",
       "      <td>Measles</td>\n",
       "      <td>NaN</td>\n",
       "    </tr>\n",
       "    <tr>\n",
       "      <th>4</th>\n",
       "      <td>COUNTRIES</td>\n",
       "      <td>ABW</td>\n",
       "      <td>Aruba</td>\n",
       "      <td>2023.0</td>\n",
       "      <td>MUMPS</td>\n",
       "      <td>Mumps</td>\n",
       "      <td>0.0</td>\n",
       "    </tr>\n",
       "    <tr>\n",
       "      <th>...</th>\n",
       "      <td>...</td>\n",
       "      <td>...</td>\n",
       "      <td>...</td>\n",
       "      <td>...</td>\n",
       "      <td>...</td>\n",
       "      <td>...</td>\n",
       "      <td>...</td>\n",
       "    </tr>\n",
       "    <tr>\n",
       "      <th>84865</th>\n",
       "      <td>COUNTRIES</td>\n",
       "      <td>ZWE</td>\n",
       "      <td>Zimbabwe</td>\n",
       "      <td>1980.0</td>\n",
       "      <td>PERTUSSIS</td>\n",
       "      <td>Pertussis</td>\n",
       "      <td>6290.0</td>\n",
       "    </tr>\n",
       "    <tr>\n",
       "      <th>84866</th>\n",
       "      <td>COUNTRIES</td>\n",
       "      <td>ZWE</td>\n",
       "      <td>Zimbabwe</td>\n",
       "      <td>1980.0</td>\n",
       "      <td>POLIO</td>\n",
       "      <td>Poliomyelitis</td>\n",
       "      <td>32.0</td>\n",
       "    </tr>\n",
       "    <tr>\n",
       "      <th>84867</th>\n",
       "      <td>COUNTRIES</td>\n",
       "      <td>ZWE</td>\n",
       "      <td>Zimbabwe</td>\n",
       "      <td>1980.0</td>\n",
       "      <td>TTETANUS</td>\n",
       "      <td>Total tetanus</td>\n",
       "      <td>139.0</td>\n",
       "    </tr>\n",
       "    <tr>\n",
       "      <th>84868</th>\n",
       "      <td>COUNTRIES</td>\n",
       "      <td>ZWE</td>\n",
       "      <td>Zimbabwe</td>\n",
       "      <td>1980.0</td>\n",
       "      <td>YFEVER</td>\n",
       "      <td>Yellow fever</td>\n",
       "      <td>NaN</td>\n",
       "    </tr>\n",
       "    <tr>\n",
       "      <th>84869</th>\n",
       "      <td>Created: 2025-02-01 16:02 UTC</td>\n",
       "      <td>NaN</td>\n",
       "      <td>NaN</td>\n",
       "      <td>NaN</td>\n",
       "      <td>NaN</td>\n",
       "      <td>NaN</td>\n",
       "      <td>NaN</td>\n",
       "    </tr>\n",
       "  </tbody>\n",
       "</table>\n",
       "<p>84870 rows × 7 columns</p>\n",
       "</div>"
      ],
      "text/plain": [
       "                               GROUP CODE      NAME    YEAR          DISEASE  \\\n",
       "0                          COUNTRIES  ABW     Aruba  2023.0              CRS   \n",
       "1                          COUNTRIES  ABW     Aruba  2023.0       DIPHTHERIA   \n",
       "2                          COUNTRIES  ABW     Aruba  2023.0  INVASIVE_MENING   \n",
       "3                          COUNTRIES  ABW     Aruba  2023.0          MEASLES   \n",
       "4                          COUNTRIES  ABW     Aruba  2023.0            MUMPS   \n",
       "...                              ...  ...       ...     ...              ...   \n",
       "84865                      COUNTRIES  ZWE  Zimbabwe  1980.0        PERTUSSIS   \n",
       "84866                      COUNTRIES  ZWE  Zimbabwe  1980.0            POLIO   \n",
       "84867                      COUNTRIES  ZWE  Zimbabwe  1980.0         TTETANUS   \n",
       "84868                      COUNTRIES  ZWE  Zimbabwe  1980.0           YFEVER   \n",
       "84869  Created: 2025-02-01 16:02 UTC  NaN       NaN     NaN              NaN   \n",
       "\n",
       "                  DISEASE_DESCRIPTION   CASES  \n",
       "0         Congenital rubella syndrome     0.0  \n",
       "1                          Diphtheria     0.0  \n",
       "2      Invasive meningococcal disease     1.0  \n",
       "3                             Measles     NaN  \n",
       "4                               Mumps     0.0  \n",
       "...                               ...     ...  \n",
       "84865                       Pertussis  6290.0  \n",
       "84866                   Poliomyelitis    32.0  \n",
       "84867                   Total tetanus   139.0  \n",
       "84868                    Yellow fever     NaN  \n",
       "84869                             NaN     NaN  \n",
       "\n",
       "[84870 rows x 7 columns]"
      ]
     },
     "execution_count": 101,
     "metadata": {},
     "output_type": "execute_result"
    }
   ],
   "source": [
    "reported_case=pd.read_excel(table_3)\n",
    "reported_case"
   ]
  },
  {
   "cell_type": "code",
   "execution_count": 103,
   "metadata": {},
   "outputs": [
    {
     "name": "stdout",
     "output_type": "stream",
     "text": [
      "<class 'pandas.core.frame.DataFrame'>\n",
      "RangeIndex: 84870 entries, 0 to 84869\n",
      "Data columns (total 7 columns):\n",
      " #   Column               Non-Null Count  Dtype  \n",
      "---  ------               --------------  -----  \n",
      " 0   GROUP_TYPE           84870 non-null  object \n",
      " 1   CODE                 84869 non-null  object \n",
      " 2   NAME                 84869 non-null  object \n",
      " 3   YEAR                 84869 non-null  float64\n",
      " 4   DISEASE              84869 non-null  object \n",
      " 5   DISEASE_DESCRIPTION  84869 non-null  object \n",
      " 6   CASES                65470 non-null  float64\n",
      "dtypes: float64(2), object(5)\n",
      "memory usage: 4.5+ MB\n"
     ]
    }
   ],
   "source": [
    "reported_case.info()"
   ]
  },
  {
   "cell_type": "code",
   "execution_count": 104,
   "metadata": {},
   "outputs": [
    {
     "data": {
      "text/plain": [
       "GROUP_TYPE                 0\n",
       "CODE                       1\n",
       "NAME                       1\n",
       "YEAR                       1\n",
       "DISEASE                    1\n",
       "DISEASE_DESCRIPTION        1\n",
       "CASES                  19400\n",
       "dtype: int64"
      ]
     },
     "execution_count": 104,
     "metadata": {},
     "output_type": "execute_result"
    }
   ],
   "source": [
    "reported_case.isnull().sum()"
   ]
  },
  {
   "cell_type": "code",
   "execution_count": 105,
   "metadata": {},
   "outputs": [
    {
     "data": {
      "text/html": [
       "<div>\n",
       "<style scoped>\n",
       "    .dataframe tbody tr th:only-of-type {\n",
       "        vertical-align: middle;\n",
       "    }\n",
       "\n",
       "    .dataframe tbody tr th {\n",
       "        vertical-align: top;\n",
       "    }\n",
       "\n",
       "    .dataframe thead th {\n",
       "        text-align: right;\n",
       "    }\n",
       "</style>\n",
       "<table border=\"1\" class=\"dataframe\">\n",
       "  <thead>\n",
       "    <tr style=\"text-align: right;\">\n",
       "      <th></th>\n",
       "      <th>GROUP_TYPE</th>\n",
       "      <th>CODE</th>\n",
       "      <th>NAME</th>\n",
       "      <th>YEAR</th>\n",
       "      <th>DISEASE</th>\n",
       "      <th>DISEASE_DESCRIPTION</th>\n",
       "      <th>CASES</th>\n",
       "    </tr>\n",
       "  </thead>\n",
       "  <tbody>\n",
       "    <tr>\n",
       "      <th>0</th>\n",
       "      <td>COUNTRIES</td>\n",
       "      <td>ABW</td>\n",
       "      <td>Aruba</td>\n",
       "      <td>2023.0</td>\n",
       "      <td>CRS</td>\n",
       "      <td>Congenital rubella syndrome</td>\n",
       "      <td>0.0</td>\n",
       "    </tr>\n",
       "    <tr>\n",
       "      <th>1</th>\n",
       "      <td>COUNTRIES</td>\n",
       "      <td>ABW</td>\n",
       "      <td>Aruba</td>\n",
       "      <td>2023.0</td>\n",
       "      <td>DIPHTHERIA</td>\n",
       "      <td>Diphtheria</td>\n",
       "      <td>0.0</td>\n",
       "    </tr>\n",
       "    <tr>\n",
       "      <th>2</th>\n",
       "      <td>COUNTRIES</td>\n",
       "      <td>ABW</td>\n",
       "      <td>Aruba</td>\n",
       "      <td>2023.0</td>\n",
       "      <td>INVASIVE_MENING</td>\n",
       "      <td>Invasive meningococcal disease</td>\n",
       "      <td>1.0</td>\n",
       "    </tr>\n",
       "    <tr>\n",
       "      <th>3</th>\n",
       "      <td>COUNTRIES</td>\n",
       "      <td>ABW</td>\n",
       "      <td>Aruba</td>\n",
       "      <td>2023.0</td>\n",
       "      <td>MEASLES</td>\n",
       "      <td>Measles</td>\n",
       "      <td>NaN</td>\n",
       "    </tr>\n",
       "    <tr>\n",
       "      <th>4</th>\n",
       "      <td>COUNTRIES</td>\n",
       "      <td>ABW</td>\n",
       "      <td>Aruba</td>\n",
       "      <td>2023.0</td>\n",
       "      <td>MUMPS</td>\n",
       "      <td>Mumps</td>\n",
       "      <td>0.0</td>\n",
       "    </tr>\n",
       "    <tr>\n",
       "      <th>...</th>\n",
       "      <td>...</td>\n",
       "      <td>...</td>\n",
       "      <td>...</td>\n",
       "      <td>...</td>\n",
       "      <td>...</td>\n",
       "      <td>...</td>\n",
       "      <td>...</td>\n",
       "    </tr>\n",
       "    <tr>\n",
       "      <th>84864</th>\n",
       "      <td>COUNTRIES</td>\n",
       "      <td>ZWE</td>\n",
       "      <td>Zimbabwe</td>\n",
       "      <td>1980.0</td>\n",
       "      <td>NTETANUS</td>\n",
       "      <td>Neonatal tetanus</td>\n",
       "      <td>134.0</td>\n",
       "    </tr>\n",
       "    <tr>\n",
       "      <th>84865</th>\n",
       "      <td>COUNTRIES</td>\n",
       "      <td>ZWE</td>\n",
       "      <td>Zimbabwe</td>\n",
       "      <td>1980.0</td>\n",
       "      <td>PERTUSSIS</td>\n",
       "      <td>Pertussis</td>\n",
       "      <td>6290.0</td>\n",
       "    </tr>\n",
       "    <tr>\n",
       "      <th>84866</th>\n",
       "      <td>COUNTRIES</td>\n",
       "      <td>ZWE</td>\n",
       "      <td>Zimbabwe</td>\n",
       "      <td>1980.0</td>\n",
       "      <td>POLIO</td>\n",
       "      <td>Poliomyelitis</td>\n",
       "      <td>32.0</td>\n",
       "    </tr>\n",
       "    <tr>\n",
       "      <th>84867</th>\n",
       "      <td>COUNTRIES</td>\n",
       "      <td>ZWE</td>\n",
       "      <td>Zimbabwe</td>\n",
       "      <td>1980.0</td>\n",
       "      <td>TTETANUS</td>\n",
       "      <td>Total tetanus</td>\n",
       "      <td>139.0</td>\n",
       "    </tr>\n",
       "    <tr>\n",
       "      <th>84868</th>\n",
       "      <td>COUNTRIES</td>\n",
       "      <td>ZWE</td>\n",
       "      <td>Zimbabwe</td>\n",
       "      <td>1980.0</td>\n",
       "      <td>YFEVER</td>\n",
       "      <td>Yellow fever</td>\n",
       "      <td>NaN</td>\n",
       "    </tr>\n",
       "  </tbody>\n",
       "</table>\n",
       "<p>84869 rows × 7 columns</p>\n",
       "</div>"
      ],
      "text/plain": [
       "      GROUP_TYPE CODE      NAME    YEAR          DISEASE  \\\n",
       "0      COUNTRIES  ABW     Aruba  2023.0              CRS   \n",
       "1      COUNTRIES  ABW     Aruba  2023.0       DIPHTHERIA   \n",
       "2      COUNTRIES  ABW     Aruba  2023.0  INVASIVE_MENING   \n",
       "3      COUNTRIES  ABW     Aruba  2023.0          MEASLES   \n",
       "4      COUNTRIES  ABW     Aruba  2023.0            MUMPS   \n",
       "...          ...  ...       ...     ...              ...   \n",
       "84864  COUNTRIES  ZWE  Zimbabwe  1980.0         NTETANUS   \n",
       "84865  COUNTRIES  ZWE  Zimbabwe  1980.0        PERTUSSIS   \n",
       "84866  COUNTRIES  ZWE  Zimbabwe  1980.0            POLIO   \n",
       "84867  COUNTRIES  ZWE  Zimbabwe  1980.0         TTETANUS   \n",
       "84868  COUNTRIES  ZWE  Zimbabwe  1980.0           YFEVER   \n",
       "\n",
       "                  DISEASE_DESCRIPTION   CASES  \n",
       "0         Congenital rubella syndrome     0.0  \n",
       "1                          Diphtheria     0.0  \n",
       "2      Invasive meningococcal disease     1.0  \n",
       "3                             Measles     NaN  \n",
       "4                               Mumps     0.0  \n",
       "...                               ...     ...  \n",
       "84864                Neonatal tetanus   134.0  \n",
       "84865                       Pertussis  6290.0  \n",
       "84866                   Poliomyelitis    32.0  \n",
       "84867                   Total tetanus   139.0  \n",
       "84868                    Yellow fever     NaN  \n",
       "\n",
       "[84869 rows x 7 columns]"
      ]
     },
     "execution_count": 105,
     "metadata": {},
     "output_type": "execute_result"
    }
   ],
   "source": [
    "reported_case.dropna(subset=[\"NAME\"],inplace=True)\n",
    "reported_case"
   ]
  },
  {
   "cell_type": "code",
   "execution_count": 106,
   "metadata": {},
   "outputs": [
    {
     "data": {
      "text/plain": [
       "np.int64(0)"
      ]
     },
     "execution_count": 106,
     "metadata": {},
     "output_type": "execute_result"
    }
   ],
   "source": [
    "reported_case.duplicated().sum()"
   ]
  },
  {
   "cell_type": "code",
   "execution_count": 107,
   "metadata": {},
   "outputs": [
    {
     "data": {
      "text/plain": [
       "GROUP_TYPE                 0\n",
       "CODE                       0\n",
       "NAME                       0\n",
       "YEAR                       0\n",
       "DISEASE                    0\n",
       "DISEASE_DESCRIPTION        0\n",
       "CASES                  19399\n",
       "dtype: int64"
      ]
     },
     "execution_count": 107,
     "metadata": {},
     "output_type": "execute_result"
    }
   ],
   "source": [
    "reported_case.isnull().sum()"
   ]
  },
  {
   "cell_type": "code",
   "execution_count": 108,
   "metadata": {},
   "outputs": [],
   "source": [
    "# Create a mask for NaN values before filling\n",
    "nan_mask = reported_case['CASES'].isna()"
   ]
  },
  {
   "cell_type": "code",
   "execution_count": 109,
   "metadata": {},
   "outputs": [
    {
     "data": {
      "text/html": [
       "<div>\n",
       "<style scoped>\n",
       "    .dataframe tbody tr th:only-of-type {\n",
       "        vertical-align: middle;\n",
       "    }\n",
       "\n",
       "    .dataframe tbody tr th {\n",
       "        vertical-align: top;\n",
       "    }\n",
       "\n",
       "    .dataframe thead th {\n",
       "        text-align: right;\n",
       "    }\n",
       "</style>\n",
       "<table border=\"1\" class=\"dataframe\">\n",
       "  <thead>\n",
       "    <tr style=\"text-align: right;\">\n",
       "      <th></th>\n",
       "      <th>YEAR</th>\n",
       "      <th>CASES</th>\n",
       "    </tr>\n",
       "  </thead>\n",
       "  <tbody>\n",
       "    <tr>\n",
       "      <th>count</th>\n",
       "      <td>84869.000000</td>\n",
       "      <td>6.547000e+04</td>\n",
       "    </tr>\n",
       "    <tr>\n",
       "      <th>mean</th>\n",
       "      <td>2004.108261</td>\n",
       "      <td>4.472409e+03</td>\n",
       "    </tr>\n",
       "    <tr>\n",
       "      <th>std</th>\n",
       "      <td>12.591396</td>\n",
       "      <td>6.114455e+04</td>\n",
       "    </tr>\n",
       "    <tr>\n",
       "      <th>min</th>\n",
       "      <td>1980.000000</td>\n",
       "      <td>0.000000e+00</td>\n",
       "    </tr>\n",
       "    <tr>\n",
       "      <th>25%</th>\n",
       "      <td>1994.000000</td>\n",
       "      <td>0.000000e+00</td>\n",
       "    </tr>\n",
       "    <tr>\n",
       "      <th>50%</th>\n",
       "      <td>2005.000000</td>\n",
       "      <td>1.000000e+00</td>\n",
       "    </tr>\n",
       "    <tr>\n",
       "      <th>75%</th>\n",
       "      <td>2015.000000</td>\n",
       "      <td>6.300000e+01</td>\n",
       "    </tr>\n",
       "    <tr>\n",
       "      <th>max</th>\n",
       "      <td>2023.000000</td>\n",
       "      <td>4.583555e+06</td>\n",
       "    </tr>\n",
       "  </tbody>\n",
       "</table>\n",
       "</div>"
      ],
      "text/plain": [
       "               YEAR         CASES\n",
       "count  84869.000000  6.547000e+04\n",
       "mean    2004.108261  4.472409e+03\n",
       "std       12.591396  6.114455e+04\n",
       "min     1980.000000  0.000000e+00\n",
       "25%     1994.000000  0.000000e+00\n",
       "50%     2005.000000  1.000000e+00\n",
       "75%     2015.000000  6.300000e+01\n",
       "max     2023.000000  4.583555e+06"
      ]
     },
     "execution_count": 109,
     "metadata": {},
     "output_type": "execute_result"
    }
   ],
   "source": [
    "reported_case.describe()"
   ]
  },
  {
   "cell_type": "code",
   "execution_count": 110,
   "metadata": {},
   "outputs": [
    {
     "data": {
      "text/plain": [
       "NAME\n",
       "Afghanistan                                                  121.0\n",
       "African Region                                              3468.0\n",
       "Albania                                                        0.0\n",
       "Algeria                                                        9.0\n",
       "American Samoa                                                 0.0\n",
       "                                                             ...  \n",
       "Western Pacific Region                                      2207.0\n",
       "Yemen                                                        132.0\n",
       "Zambia                                                        26.0\n",
       "Zimbabwe                                                       3.0\n",
       "occupied Palestinian territory, including east Jerusalem       0.0\n",
       "Name: CASES, Length: 221, dtype: float64"
      ]
     },
     "execution_count": 110,
     "metadata": {},
     "output_type": "execute_result"
    }
   ],
   "source": [
    "grouped_df=reported_case.groupby([\"NAME\"])[\"CASES\"].median()\n",
    "grouped_df"
   ]
  },
  {
   "cell_type": "code",
   "execution_count": 111,
   "metadata": {},
   "outputs": [],
   "source": [
    "##replacing the null cases by median value because the fluactation is moore \n",
    "reported_case[\"CASES\"]=reported_case[\"CASES\"].fillna(reported_case.groupby('NAME')['CASES'].transform('median'))"
   ]
  },
  {
   "cell_type": "code",
   "execution_count": 112,
   "metadata": {},
   "outputs": [
    {
     "data": {
      "text/plain": [
       "GROUP_TYPE             0\n",
       "CODE                   0\n",
       "NAME                   0\n",
       "YEAR                   0\n",
       "DISEASE                0\n",
       "DISEASE_DESCRIPTION    0\n",
       "CASES                  0\n",
       "dtype: int64"
      ]
     },
     "execution_count": 112,
     "metadata": {},
     "output_type": "execute_result"
    }
   ],
   "source": [
    "#checking the nul value after droping the cases null cases \n",
    "reported_case.isnull().sum()"
   ]
  },
  {
   "cell_type": "markdown",
   "metadata": {},
   "source": [
    "TABLE 4"
   ]
  },
  {
   "cell_type": "code",
   "execution_count": 43,
   "metadata": {},
   "outputs": [],
   "source": [
    "import pandas as pd"
   ]
  },
  {
   "cell_type": "code",
   "execution_count": 44,
   "metadata": {},
   "outputs": [
    {
     "data": {
      "text/plain": [
       "'C:\\\\Users\\\\Lenovo\\\\Desktop\\\\GUVI\\\\PROJECT VACCINATION\\\\coverage-data.xlsx'"
      ]
     },
     "execution_count": 44,
     "metadata": {},
     "output_type": "execute_result"
    }
   ],
   "source": [
    "table_4=r\"C:\\Users\\Lenovo\\Desktop\\GUVI\\PROJECT VACCINATION\\coverage-data.xlsx\"\n",
    "table_4"
   ]
  },
  {
   "cell_type": "code",
   "execution_count": 45,
   "metadata": {},
   "outputs": [
    {
     "data": {
      "text/html": [
       "<div>\n",
       "<style scoped>\n",
       "    .dataframe tbody tr th:only-of-type {\n",
       "        vertical-align: middle;\n",
       "    }\n",
       "\n",
       "    .dataframe tbody tr th {\n",
       "        vertical-align: top;\n",
       "    }\n",
       "\n",
       "    .dataframe thead th {\n",
       "        text-align: right;\n",
       "    }\n",
       "</style>\n",
       "<table border=\"1\" class=\"dataframe\">\n",
       "  <thead>\n",
       "    <tr style=\"text-align: right;\">\n",
       "      <th></th>\n",
       "      <th>GROUP</th>\n",
       "      <th>CODE</th>\n",
       "      <th>NAME</th>\n",
       "      <th>YEAR</th>\n",
       "      <th>ANTIGEN</th>\n",
       "      <th>ANTIGEN_DESCRIPTION</th>\n",
       "      <th>COVERAGE_CATEGORY</th>\n",
       "      <th>COVERAGE_CATEGORY_DESCRIPTION</th>\n",
       "      <th>TARGET_NUMBER</th>\n",
       "      <th>DOSES</th>\n",
       "      <th>COVERAGE</th>\n",
       "    </tr>\n",
       "  </thead>\n",
       "  <tbody>\n",
       "    <tr>\n",
       "      <th>0</th>\n",
       "      <td>COUNTRIES</td>\n",
       "      <td>ABW</td>\n",
       "      <td>Aruba</td>\n",
       "      <td>2023.0</td>\n",
       "      <td>BCG</td>\n",
       "      <td>BCG</td>\n",
       "      <td>ADMIN</td>\n",
       "      <td>Administrative coverage</td>\n",
       "      <td>NaN</td>\n",
       "      <td>NaN</td>\n",
       "      <td>NaN</td>\n",
       "    </tr>\n",
       "    <tr>\n",
       "      <th>1</th>\n",
       "      <td>COUNTRIES</td>\n",
       "      <td>ABW</td>\n",
       "      <td>Aruba</td>\n",
       "      <td>2023.0</td>\n",
       "      <td>BCG</td>\n",
       "      <td>BCG</td>\n",
       "      <td>OFFICIAL</td>\n",
       "      <td>Official coverage</td>\n",
       "      <td>NaN</td>\n",
       "      <td>NaN</td>\n",
       "      <td>NaN</td>\n",
       "    </tr>\n",
       "    <tr>\n",
       "      <th>2</th>\n",
       "      <td>COUNTRIES</td>\n",
       "      <td>ABW</td>\n",
       "      <td>Aruba</td>\n",
       "      <td>2023.0</td>\n",
       "      <td>DIPHCV4</td>\n",
       "      <td>Diphtheria-containing vaccine, 4th dose (1st b...</td>\n",
       "      <td>ADMIN</td>\n",
       "      <td>Administrative coverage</td>\n",
       "      <td>1044.0</td>\n",
       "      <td>945.0</td>\n",
       "      <td>90.52</td>\n",
       "    </tr>\n",
       "    <tr>\n",
       "      <th>3</th>\n",
       "      <td>COUNTRIES</td>\n",
       "      <td>ABW</td>\n",
       "      <td>Aruba</td>\n",
       "      <td>2023.0</td>\n",
       "      <td>DIPHCV4</td>\n",
       "      <td>Diphtheria-containing vaccine, 4th dose (1st b...</td>\n",
       "      <td>OFFICIAL</td>\n",
       "      <td>Official coverage</td>\n",
       "      <td>NaN</td>\n",
       "      <td>NaN</td>\n",
       "      <td>90.52</td>\n",
       "    </tr>\n",
       "    <tr>\n",
       "      <th>4</th>\n",
       "      <td>COUNTRIES</td>\n",
       "      <td>ABW</td>\n",
       "      <td>Aruba</td>\n",
       "      <td>2023.0</td>\n",
       "      <td>DIPHCV5</td>\n",
       "      <td>Diphtheria-containing vaccine, 5th dose (2nd b...</td>\n",
       "      <td>ADMIN</td>\n",
       "      <td>Administrative coverage</td>\n",
       "      <td>1219.0</td>\n",
       "      <td>1008.0</td>\n",
       "      <td>82.69</td>\n",
       "    </tr>\n",
       "    <tr>\n",
       "      <th>...</th>\n",
       "      <td>...</td>\n",
       "      <td>...</td>\n",
       "      <td>...</td>\n",
       "      <td>...</td>\n",
       "      <td>...</td>\n",
       "      <td>...</td>\n",
       "      <td>...</td>\n",
       "      <td>...</td>\n",
       "      <td>...</td>\n",
       "      <td>...</td>\n",
       "      <td>...</td>\n",
       "    </tr>\n",
       "    <tr>\n",
       "      <th>399854</th>\n",
       "      <td>WHO_REGIONS</td>\n",
       "      <td>WPR</td>\n",
       "      <td>Western Pacific Region</td>\n",
       "      <td>1980.0</td>\n",
       "      <td>MCV1</td>\n",
       "      <td>Measles-containing vaccine, 1st dose</td>\n",
       "      <td>WUENIC</td>\n",
       "      <td>WHO/UNICEF Estimates of National Immunization ...</td>\n",
       "      <td>27939588.0</td>\n",
       "      <td>1209026.0</td>\n",
       "      <td>4.00</td>\n",
       "    </tr>\n",
       "    <tr>\n",
       "      <th>399855</th>\n",
       "      <td>WHO_REGIONS</td>\n",
       "      <td>WPR</td>\n",
       "      <td>Western Pacific Region</td>\n",
       "      <td>1980.0</td>\n",
       "      <td>PAB</td>\n",
       "      <td>Protection at birth (PAB) against neonatal tet...</td>\n",
       "      <td>PAB</td>\n",
       "      <td>PAB Estimates</td>\n",
       "      <td>4494513.0</td>\n",
       "      <td>276306.0</td>\n",
       "      <td>6.00</td>\n",
       "    </tr>\n",
       "    <tr>\n",
       "      <th>399856</th>\n",
       "      <td>WHO_REGIONS</td>\n",
       "      <td>WPR</td>\n",
       "      <td>Western Pacific Region</td>\n",
       "      <td>1980.0</td>\n",
       "      <td>POL3</td>\n",
       "      <td>Polio, 3rd dose</td>\n",
       "      <td>WUENIC</td>\n",
       "      <td>WHO/UNICEF Estimates of National Immunization ...</td>\n",
       "      <td>27939588.0</td>\n",
       "      <td>1296611.0</td>\n",
       "      <td>5.00</td>\n",
       "    </tr>\n",
       "    <tr>\n",
       "      <th>399857</th>\n",
       "      <td>WHO_REGIONS</td>\n",
       "      <td>WPR</td>\n",
       "      <td>Western Pacific Region</td>\n",
       "      <td>1980.0</td>\n",
       "      <td>RCV1</td>\n",
       "      <td>Rubella-containing vaccine, 1st dose</td>\n",
       "      <td>WUENIC</td>\n",
       "      <td>WHO/UNICEF Estimates of National Immunization ...</td>\n",
       "      <td>27939588.0</td>\n",
       "      <td>40245.0</td>\n",
       "      <td>0.00</td>\n",
       "    </tr>\n",
       "    <tr>\n",
       "      <th>399858</th>\n",
       "      <td>Created: 2025-02-01 16:00 UTC</td>\n",
       "      <td>NaN</td>\n",
       "      <td>NaN</td>\n",
       "      <td>NaN</td>\n",
       "      <td>NaN</td>\n",
       "      <td>NaN</td>\n",
       "      <td>NaN</td>\n",
       "      <td>NaN</td>\n",
       "      <td>NaN</td>\n",
       "      <td>NaN</td>\n",
       "      <td>NaN</td>\n",
       "    </tr>\n",
       "  </tbody>\n",
       "</table>\n",
       "<p>399859 rows × 11 columns</p>\n",
       "</div>"
      ],
      "text/plain": [
       "                                GROUP CODE                    NAME    YEAR  \\\n",
       "0                           COUNTRIES  ABW                   Aruba  2023.0   \n",
       "1                           COUNTRIES  ABW                   Aruba  2023.0   \n",
       "2                           COUNTRIES  ABW                   Aruba  2023.0   \n",
       "3                           COUNTRIES  ABW                   Aruba  2023.0   \n",
       "4                           COUNTRIES  ABW                   Aruba  2023.0   \n",
       "...                               ...  ...                     ...     ...   \n",
       "399854                    WHO_REGIONS  WPR  Western Pacific Region  1980.0   \n",
       "399855                    WHO_REGIONS  WPR  Western Pacific Region  1980.0   \n",
       "399856                    WHO_REGIONS  WPR  Western Pacific Region  1980.0   \n",
       "399857                    WHO_REGIONS  WPR  Western Pacific Region  1980.0   \n",
       "399858  Created: 2025-02-01 16:00 UTC  NaN                     NaN     NaN   \n",
       "\n",
       "        ANTIGEN                                ANTIGEN_DESCRIPTION  \\\n",
       "0           BCG                                                BCG   \n",
       "1           BCG                                                BCG   \n",
       "2       DIPHCV4  Diphtheria-containing vaccine, 4th dose (1st b...   \n",
       "3       DIPHCV4  Diphtheria-containing vaccine, 4th dose (1st b...   \n",
       "4       DIPHCV5  Diphtheria-containing vaccine, 5th dose (2nd b...   \n",
       "...         ...                                                ...   \n",
       "399854     MCV1               Measles-containing vaccine, 1st dose   \n",
       "399855      PAB  Protection at birth (PAB) against neonatal tet...   \n",
       "399856     POL3                                    Polio, 3rd dose   \n",
       "399857     RCV1               Rubella-containing vaccine, 1st dose   \n",
       "399858      NaN                                                NaN   \n",
       "\n",
       "       COVERAGE_CATEGORY                      COVERAGE_CATEGORY_DESCRIPTION  \\\n",
       "0                  ADMIN                            Administrative coverage   \n",
       "1               OFFICIAL                                  Official coverage   \n",
       "2                  ADMIN                            Administrative coverage   \n",
       "3               OFFICIAL                                  Official coverage   \n",
       "4                  ADMIN                            Administrative coverage   \n",
       "...                  ...                                                ...   \n",
       "399854            WUENIC  WHO/UNICEF Estimates of National Immunization ...   \n",
       "399855               PAB                                      PAB Estimates   \n",
       "399856            WUENIC  WHO/UNICEF Estimates of National Immunization ...   \n",
       "399857            WUENIC  WHO/UNICEF Estimates of National Immunization ...   \n",
       "399858               NaN                                                NaN   \n",
       "\n",
       "        TARGET_NUMBER      DOSES  COVERAGE  \n",
       "0                 NaN        NaN       NaN  \n",
       "1                 NaN        NaN       NaN  \n",
       "2              1044.0      945.0     90.52  \n",
       "3                 NaN        NaN     90.52  \n",
       "4              1219.0     1008.0     82.69  \n",
       "...               ...        ...       ...  \n",
       "399854     27939588.0  1209026.0      4.00  \n",
       "399855      4494513.0   276306.0      6.00  \n",
       "399856     27939588.0  1296611.0      5.00  \n",
       "399857     27939588.0    40245.0      0.00  \n",
       "399858            NaN        NaN       NaN  \n",
       "\n",
       "[399859 rows x 11 columns]"
      ]
     },
     "execution_count": 45,
     "metadata": {},
     "output_type": "execute_result"
    }
   ],
   "source": [
    "coverage_data=pd.read_excel(table_4)\n",
    "coverage_data"
   ]
  },
  {
   "cell_type": "code",
   "execution_count": 46,
   "metadata": {},
   "outputs": [
    {
     "name": "stdout",
     "output_type": "stream",
     "text": [
      "<class 'pandas.core.frame.DataFrame'>\n",
      "RangeIndex: 399859 entries, 0 to 399858\n",
      "Data columns (total 11 columns):\n",
      " #   Column                         Non-Null Count   Dtype  \n",
      "---  ------                         --------------   -----  \n",
      " 0   GROUP                          399859 non-null  object \n",
      " 1   CODE                           399858 non-null  object \n",
      " 2   NAME                           398584 non-null  object \n",
      " 3   YEAR                           399858 non-null  float64\n",
      " 4   ANTIGEN                        399858 non-null  object \n",
      " 5   ANTIGEN_DESCRIPTION            399858 non-null  object \n",
      " 6   COVERAGE_CATEGORY              399858 non-null  object \n",
      " 7   COVERAGE_CATEGORY_DESCRIPTION  399858 non-null  object \n",
      " 8   TARGET_NUMBER                  79030 non-null   float64\n",
      " 9   DOSES                          79327 non-null   float64\n",
      " 10  COVERAGE                       230477 non-null  float64\n",
      "dtypes: float64(4), object(7)\n",
      "memory usage: 33.6+ MB\n"
     ]
    }
   ],
   "source": [
    "coverage_data.info()"
   ]
  },
  {
   "cell_type": "code",
   "execution_count": 47,
   "metadata": {},
   "outputs": [
    {
     "data": {
      "text/plain": [
       "GROUP                                 0\n",
       "CODE                                  1\n",
       "NAME                               1275\n",
       "YEAR                                  1\n",
       "ANTIGEN                               1\n",
       "ANTIGEN_DESCRIPTION                   1\n",
       "COVERAGE_CATEGORY                     1\n",
       "COVERAGE_CATEGORY_DESCRIPTION         1\n",
       "TARGET_NUMBER                    320829\n",
       "DOSES                            320532\n",
       "COVERAGE                         169382\n",
       "dtype: int64"
      ]
     },
     "execution_count": 47,
     "metadata": {},
     "output_type": "execute_result"
    }
   ],
   "source": [
    "coverage_data.isnull().sum()"
   ]
  },
  {
   "cell_type": "code",
   "execution_count": 48,
   "metadata": {},
   "outputs": [
    {
     "data": {
      "text/plain": [
       "YEAR\n",
       "1980.0    12802629.0\n",
       "1981.0    12677940.0\n",
       "1982.0    12623882.0\n",
       "1983.0    12570896.0\n",
       "1984.0    12842820.0\n",
       "1985.0    13110054.0\n",
       "1986.0    13235003.0\n",
       "1987.0    13251670.0\n",
       "1988.0    13173985.0\n",
       "1989.0    13116219.0\n",
       "1990.0    13437682.0\n",
       "1991.0    13378381.0\n",
       "1992.0    14020368.5\n",
       "1993.0    14240460.0\n",
       "1994.0    13985735.0\n",
       "1995.0    14164717.0\n",
       "1996.0    14316318.0\n",
       "1997.0    14067487.0\n",
       "1998.0    14034773.0\n",
       "1999.0      529860.0\n",
       "2000.0      324857.0\n",
       "2001.0      371710.0\n",
       "2002.0      427273.0\n",
       "2003.0      316419.0\n",
       "2004.0      298981.0\n",
       "2005.0      283657.0\n",
       "2006.0      358320.0\n",
       "2007.0      324900.0\n",
       "2008.0      289749.0\n",
       "2009.0      245568.0\n",
       "2010.0      361466.0\n",
       "2011.0      325193.0\n",
       "2012.0      314609.0\n",
       "2013.0      335498.0\n",
       "2014.0      279740.0\n",
       "2015.0      288115.5\n",
       "2016.0      330461.0\n",
       "2017.0      264475.0\n",
       "2018.0      190515.5\n",
       "2019.0      182244.0\n",
       "2020.0      217748.5\n",
       "2021.0      188276.0\n",
       "2022.0      176940.0\n",
       "2023.0      171870.0\n",
       "Name: TARGET_NUMBER, dtype: float64"
      ]
     },
     "execution_count": 48,
     "metadata": {},
     "output_type": "execute_result"
    }
   ],
   "source": [
    "grouped_df=coverage_data.groupby([\"YEAR\"])[\"TARGET_NUMBER\"].median()\n",
    "grouped_df"
   ]
  },
  {
   "cell_type": "code",
   "execution_count": 49,
   "metadata": {},
   "outputs": [
    {
     "data": {
      "text/plain": [
       "YEAR\n",
       "1980.0    1768033.0\n",
       "1981.0    2665664.5\n",
       "1982.0    3423265.0\n",
       "1983.0    4408145.0\n",
       "1984.0    5434654.0\n",
       "1985.0    5046735.0\n",
       "1986.0    5647997.0\n",
       "1987.0    6252578.0\n",
       "1988.0    7013557.0\n",
       "1989.0    7970050.0\n",
       "1990.0    6300295.0\n",
       "1991.0    5771536.5\n",
       "1992.0    5799003.5\n",
       "1993.0    6100070.5\n",
       "1994.0    6761307.0\n",
       "1995.0    6976562.0\n",
       "1996.0    7055291.0\n",
       "1997.0    6397357.0\n",
       "1998.0    6817465.0\n",
       "1999.0     242576.0\n",
       "2000.0     148952.0\n",
       "2001.0     162488.0\n",
       "2002.0     236086.0\n",
       "2003.0     208851.0\n",
       "2004.0     197885.0\n",
       "2005.0     172554.5\n",
       "2006.0     208739.0\n",
       "2007.0     170668.5\n",
       "2008.0     179578.5\n",
       "2009.0     175924.5\n",
       "2010.0     123805.0\n",
       "2011.0     132752.0\n",
       "2012.0     145303.0\n",
       "2013.0     152274.0\n",
       "2014.0     152212.0\n",
       "2015.0     156979.0\n",
       "2016.0     155347.0\n",
       "2017.0     144182.0\n",
       "2018.0      94120.0\n",
       "2019.0      98163.5\n",
       "2020.0     131537.0\n",
       "2021.0     104762.5\n",
       "2022.0      91914.0\n",
       "2023.0      86921.0\n",
       "Name: DOSES, dtype: float64"
      ]
     },
     "execution_count": 49,
     "metadata": {},
     "output_type": "execute_result"
    }
   ],
   "source": [
    "grouped_df=coverage_data.groupby([\"YEAR\"])[\"DOSES\"].median()\n",
    "grouped_df"
   ]
  },
  {
   "cell_type": "code",
   "execution_count": 50,
   "metadata": {},
   "outputs": [
    {
     "data": {
      "text/plain": [
       "YEAR\n",
       "1980.0    41.000\n",
       "1981.0    43.000\n",
       "1982.0    50.000\n",
       "1983.0    55.000\n",
       "1984.0    56.000\n",
       "1985.0    59.000\n",
       "1986.0    67.000\n",
       "1987.0    70.000\n",
       "1988.0    74.000\n",
       "1989.0    79.500\n",
       "1990.0    84.000\n",
       "1991.0    83.000\n",
       "1992.0    84.000\n",
       "1993.0    84.000\n",
       "1994.0    86.000\n",
       "1995.0    88.000\n",
       "1996.0    89.000\n",
       "1997.0    89.000\n",
       "1998.0    88.000\n",
       "1999.0    89.000\n",
       "2000.0    89.000\n",
       "2001.0    89.000\n",
       "2002.0    90.000\n",
       "2003.0    91.000\n",
       "2004.0    91.000\n",
       "2005.0    92.000\n",
       "2006.0    92.000\n",
       "2007.0    92.000\n",
       "2008.0    93.000\n",
       "2009.0    93.000\n",
       "2010.0    91.750\n",
       "2011.0    91.400\n",
       "2012.0    92.000\n",
       "2013.0    91.440\n",
       "2014.0    91.200\n",
       "2015.0    91.130\n",
       "2016.0    91.625\n",
       "2017.0    91.000\n",
       "2018.0    90.770\n",
       "2019.0    90.980\n",
       "2020.0    87.100\n",
       "2021.0    86.400\n",
       "2022.0    88.000\n",
       "2023.0    88.000\n",
       "Name: COVERAGE, dtype: float64"
      ]
     },
     "execution_count": 50,
     "metadata": {},
     "output_type": "execute_result"
    }
   ],
   "source": [
    "grouped_df=coverage_data.groupby([\"YEAR\"])[\"COVERAGE\"].median()\n",
    "grouped_df"
   ]
  },
  {
   "cell_type": "code",
   "execution_count": 51,
   "metadata": {},
   "outputs": [],
   "source": [
    "##replacing the below col with median \n",
    "coverage_data[\"TARGET_NUMBER\"]=coverage_data[\"TARGET_NUMBER\"].fillna(coverage_data.groupby('YEAR')['TARGET_NUMBER'].transform('median'))\n",
    "coverage_data[\"DOSES\"]=coverage_data[\"DOSES\"].fillna(coverage_data.groupby('YEAR')['DOSES'].transform('median'))\n",
    "coverage_data[\"COVERAGE\"]=coverage_data[\"COVERAGE\"].fillna(coverage_data.groupby('YEAR')['COVERAGE'].transform('median'))"
   ]
  },
  {
   "cell_type": "code",
   "execution_count": 52,
   "metadata": {},
   "outputs": [
    {
     "name": "stderr",
     "output_type": "stream",
     "text": [
      "C:\\Users\\Lenovo\\AppData\\Local\\Temp\\ipykernel_30352\\1871019552.py:1: FutureWarning: Setting an item of incompatible dtype is deprecated and will raise an error in a future version of pandas. Value '--' has dtype incompatible with float64, please explicitly cast to a compatible dtype first.\n",
      "  coverage_data.fillna(\"--\",inplace=True)\n"
     ]
    }
   ],
   "source": [
    "coverage_data.fillna(\"--\",inplace=True)"
   ]
  },
  {
   "cell_type": "code",
   "execution_count": 53,
   "metadata": {},
   "outputs": [
    {
     "data": {
      "text/plain": [
       "GROUP                            0\n",
       "CODE                             0\n",
       "NAME                             0\n",
       "YEAR                             0\n",
       "ANTIGEN                          0\n",
       "ANTIGEN_DESCRIPTION              0\n",
       "COVERAGE_CATEGORY                0\n",
       "COVERAGE_CATEGORY_DESCRIPTION    0\n",
       "TARGET_NUMBER                    0\n",
       "DOSES                            0\n",
       "COVERAGE                         0\n",
       "dtype: int64"
      ]
     },
     "execution_count": 53,
     "metadata": {},
     "output_type": "execute_result"
    }
   ],
   "source": [
    "#checking the null value again \n",
    "coverage_data.isnull().sum()"
   ]
  },
  {
   "cell_type": "code",
   "execution_count": 54,
   "metadata": {},
   "outputs": [],
   "source": [
    "coverage_data.dropna(subset=[\"CODE\"],inplace =True)"
   ]
  },
  {
   "cell_type": "code",
   "execution_count": 55,
   "metadata": {},
   "outputs": [
    {
     "data": {
      "text/plain": [
       "GROUP                            0\n",
       "CODE                             0\n",
       "NAME                             0\n",
       "YEAR                             0\n",
       "ANTIGEN                          0\n",
       "ANTIGEN_DESCRIPTION              0\n",
       "COVERAGE_CATEGORY                0\n",
       "COVERAGE_CATEGORY_DESCRIPTION    0\n",
       "TARGET_NUMBER                    0\n",
       "DOSES                            0\n",
       "COVERAGE                         0\n",
       "dtype: int64"
      ]
     },
     "execution_count": 55,
     "metadata": {},
     "output_type": "execute_result"
    }
   ],
   "source": [
    "coverage_data.isnull().sum()"
   ]
  },
  {
   "cell_type": "code",
   "execution_count": 56,
   "metadata": {},
   "outputs": [
    {
     "data": {
      "text/html": [
       "<div>\n",
       "<style scoped>\n",
       "    .dataframe tbody tr th:only-of-type {\n",
       "        vertical-align: middle;\n",
       "    }\n",
       "\n",
       "    .dataframe tbody tr th {\n",
       "        vertical-align: top;\n",
       "    }\n",
       "\n",
       "    .dataframe thead th {\n",
       "        text-align: right;\n",
       "    }\n",
       "</style>\n",
       "<table border=\"1\" class=\"dataframe\">\n",
       "  <thead>\n",
       "    <tr style=\"text-align: right;\">\n",
       "      <th></th>\n",
       "      <th>GROUP</th>\n",
       "      <th>CODE</th>\n",
       "      <th>NAME</th>\n",
       "      <th>YEAR</th>\n",
       "      <th>ANTIGEN</th>\n",
       "      <th>ANTIGEN_DESCRIPTION</th>\n",
       "      <th>COVERAGE_CATEGORY</th>\n",
       "      <th>COVERAGE_CATEGORY_DESCRIPTION</th>\n",
       "      <th>TARGET_NUMBER</th>\n",
       "      <th>DOSES</th>\n",
       "      <th>COVERAGE</th>\n",
       "    </tr>\n",
       "  </thead>\n",
       "  <tbody>\n",
       "    <tr>\n",
       "      <th>68355</th>\n",
       "      <td>COUNTRIES</td>\n",
       "      <td>CMR</td>\n",
       "      <td>Cameroon</td>\n",
       "      <td>2000.0</td>\n",
       "      <td>YFV</td>\n",
       "      <td>Yellow fever vaccine</td>\n",
       "      <td>ADMIN</td>\n",
       "      <td>Administrative coverage</td>\n",
       "      <td>324857.0</td>\n",
       "      <td>148952.0</td>\n",
       "      <td>89.0</td>\n",
       "    </tr>\n",
       "    <tr>\n",
       "      <th>110749</th>\n",
       "      <td>COUNTRIES</td>\n",
       "      <td>ETH</td>\n",
       "      <td>Ethiopia</td>\n",
       "      <td>2004.0</td>\n",
       "      <td>YFV</td>\n",
       "      <td>Yellow fever vaccine</td>\n",
       "      <td>WUENIC</td>\n",
       "      <td>WHO/UNICEF Estimates of National Immunization ...</td>\n",
       "      <td>298981.0</td>\n",
       "      <td>197885.0</td>\n",
       "      <td>91.0</td>\n",
       "    </tr>\n",
       "    <tr>\n",
       "      <th>288164</th>\n",
       "      <td>COUNTRIES</td>\n",
       "      <td>ROU</td>\n",
       "      <td>Romania</td>\n",
       "      <td>2005.0</td>\n",
       "      <td>BCG</td>\n",
       "      <td>BCG</td>\n",
       "      <td>ADMIN</td>\n",
       "      <td>Administrative coverage</td>\n",
       "      <td>218182.0</td>\n",
       "      <td>214909.0</td>\n",
       "      <td>98.5</td>\n",
       "    </tr>\n",
       "    <tr>\n",
       "      <th>317007</th>\n",
       "      <td>COUNTRIES</td>\n",
       "      <td>SVK</td>\n",
       "      <td>Slovakia</td>\n",
       "      <td>2018.0</td>\n",
       "      <td>HEPB3</td>\n",
       "      <td>HepB, 3rd dose</td>\n",
       "      <td>WUENIC</td>\n",
       "      <td>WHO/UNICEF Estimates of National Immunization ...</td>\n",
       "      <td>190515.5</td>\n",
       "      <td>94120.0</td>\n",
       "      <td>96.0</td>\n",
       "    </tr>\n",
       "    <tr>\n",
       "      <th>163577</th>\n",
       "      <td>COUNTRIES</td>\n",
       "      <td>ISR</td>\n",
       "      <td>Israel</td>\n",
       "      <td>2018.0</td>\n",
       "      <td>HEPB3</td>\n",
       "      <td>HepB, 3rd dose</td>\n",
       "      <td>WUENIC</td>\n",
       "      <td>WHO/UNICEF Estimates of National Immunization ...</td>\n",
       "      <td>190515.5</td>\n",
       "      <td>94120.0</td>\n",
       "      <td>96.0</td>\n",
       "    </tr>\n",
       "  </tbody>\n",
       "</table>\n",
       "</div>"
      ],
      "text/plain": [
       "            GROUP CODE      NAME    YEAR ANTIGEN   ANTIGEN_DESCRIPTION  \\\n",
       "68355   COUNTRIES  CMR  Cameroon  2000.0     YFV  Yellow fever vaccine   \n",
       "110749  COUNTRIES  ETH  Ethiopia  2004.0     YFV  Yellow fever vaccine   \n",
       "288164  COUNTRIES  ROU   Romania  2005.0     BCG                   BCG   \n",
       "317007  COUNTRIES  SVK  Slovakia  2018.0   HEPB3        HepB, 3rd dose   \n",
       "163577  COUNTRIES  ISR    Israel  2018.0   HEPB3        HepB, 3rd dose   \n",
       "\n",
       "       COVERAGE_CATEGORY                      COVERAGE_CATEGORY_DESCRIPTION  \\\n",
       "68355              ADMIN                            Administrative coverage   \n",
       "110749            WUENIC  WHO/UNICEF Estimates of National Immunization ...   \n",
       "288164             ADMIN                            Administrative coverage   \n",
       "317007            WUENIC  WHO/UNICEF Estimates of National Immunization ...   \n",
       "163577            WUENIC  WHO/UNICEF Estimates of National Immunization ...   \n",
       "\n",
       "       TARGET_NUMBER     DOSES COVERAGE  \n",
       "68355       324857.0  148952.0     89.0  \n",
       "110749      298981.0  197885.0     91.0  \n",
       "288164      218182.0  214909.0     98.5  \n",
       "317007      190515.5   94120.0     96.0  \n",
       "163577      190515.5   94120.0     96.0  "
      ]
     },
     "execution_count": 56,
     "metadata": {},
     "output_type": "execute_result"
    }
   ],
   "source": [
    "##checking the final dataframe \n",
    "coverage_data.sample(5)"
   ]
  },
  {
   "cell_type": "markdown",
   "metadata": {},
   "source": [
    "TABLE 5"
   ]
  },
  {
   "cell_type": "code",
   "execution_count": 57,
   "metadata": {},
   "outputs": [
    {
     "data": {
      "text/plain": [
       "'C:\\\\Users\\\\Lenovo\\\\Desktop\\\\GUVI\\\\PROJECT VACCINATION\\\\vaccine-schedule-data.xlsx'"
      ]
     },
     "execution_count": 57,
     "metadata": {},
     "output_type": "execute_result"
    }
   ],
   "source": [
    "table_5=r\"C:\\Users\\Lenovo\\Desktop\\GUVI\\PROJECT VACCINATION\\vaccine-schedule-data.xlsx\"\n",
    "table_5"
   ]
  },
  {
   "cell_type": "code",
   "execution_count": 58,
   "metadata": {},
   "outputs": [
    {
     "data": {
      "text/html": [
       "<div>\n",
       "<style scoped>\n",
       "    .dataframe tbody tr th:only-of-type {\n",
       "        vertical-align: middle;\n",
       "    }\n",
       "\n",
       "    .dataframe tbody tr th {\n",
       "        vertical-align: top;\n",
       "    }\n",
       "\n",
       "    .dataframe thead th {\n",
       "        text-align: right;\n",
       "    }\n",
       "</style>\n",
       "<table border=\"1\" class=\"dataframe\">\n",
       "  <thead>\n",
       "    <tr style=\"text-align: right;\">\n",
       "      <th></th>\n",
       "      <th>ISO_3_CODE</th>\n",
       "      <th>COUNTRYNAME</th>\n",
       "      <th>WHO_REGION</th>\n",
       "      <th>YEAR</th>\n",
       "      <th>VACCINECODE</th>\n",
       "      <th>VACCINE_DESCRIPTION</th>\n",
       "      <th>SCHEDULEROUNDS</th>\n",
       "      <th>TARGETPOP</th>\n",
       "      <th>TARGETPOP_DESCRIPTION</th>\n",
       "      <th>GEOAREA</th>\n",
       "      <th>AGEADMINISTERED</th>\n",
       "      <th>SOURCECOMMENT</th>\n",
       "    </tr>\n",
       "  </thead>\n",
       "  <tbody>\n",
       "    <tr>\n",
       "      <th>0</th>\n",
       "      <td>ABW</td>\n",
       "      <td>Aruba</td>\n",
       "      <td>AMRO</td>\n",
       "      <td>2023.0</td>\n",
       "      <td>DTAPHIBIPV</td>\n",
       "      <td>DTaP-Hib-IPV (acellular) vaccine</td>\n",
       "      <td>1.0</td>\n",
       "      <td>NaN</td>\n",
       "      <td>General/routine</td>\n",
       "      <td>NATIONAL</td>\n",
       "      <td>M2</td>\n",
       "      <td>NaN</td>\n",
       "    </tr>\n",
       "    <tr>\n",
       "      <th>1</th>\n",
       "      <td>ABW</td>\n",
       "      <td>Aruba</td>\n",
       "      <td>AMRO</td>\n",
       "      <td>2023.0</td>\n",
       "      <td>DTAPHIBIPV</td>\n",
       "      <td>DTaP-Hib-IPV (acellular) vaccine</td>\n",
       "      <td>2.0</td>\n",
       "      <td>NaN</td>\n",
       "      <td>General/routine</td>\n",
       "      <td>NATIONAL</td>\n",
       "      <td>M4</td>\n",
       "      <td>NaN</td>\n",
       "    </tr>\n",
       "    <tr>\n",
       "      <th>2</th>\n",
       "      <td>ABW</td>\n",
       "      <td>Aruba</td>\n",
       "      <td>AMRO</td>\n",
       "      <td>2023.0</td>\n",
       "      <td>DTAPHIBIPV</td>\n",
       "      <td>DTaP-Hib-IPV (acellular) vaccine</td>\n",
       "      <td>3.0</td>\n",
       "      <td>NaN</td>\n",
       "      <td>General/routine</td>\n",
       "      <td>NATIONAL</td>\n",
       "      <td>M6</td>\n",
       "      <td>NaN</td>\n",
       "    </tr>\n",
       "    <tr>\n",
       "      <th>3</th>\n",
       "      <td>ABW</td>\n",
       "      <td>Aruba</td>\n",
       "      <td>AMRO</td>\n",
       "      <td>2023.0</td>\n",
       "      <td>DTAPHIBIPV</td>\n",
       "      <td>DTaP-Hib-IPV (acellular) vaccine</td>\n",
       "      <td>4.0</td>\n",
       "      <td>B_2YL_W</td>\n",
       "      <td>General/routine</td>\n",
       "      <td>NATIONAL</td>\n",
       "      <td>M15</td>\n",
       "      <td>NaN</td>\n",
       "    </tr>\n",
       "    <tr>\n",
       "      <th>4</th>\n",
       "      <td>ABW</td>\n",
       "      <td>Aruba</td>\n",
       "      <td>AMRO</td>\n",
       "      <td>2023.0</td>\n",
       "      <td>DTAPIPV</td>\n",
       "      <td>DTaP-IPV (acellular) vaccine</td>\n",
       "      <td>5.0</td>\n",
       "      <td>B_CHILD_W</td>\n",
       "      <td>General/routine</td>\n",
       "      <td>NATIONAL</td>\n",
       "      <td>Y4</td>\n",
       "      <td>NaN</td>\n",
       "    </tr>\n",
       "    <tr>\n",
       "      <th>...</th>\n",
       "      <td>...</td>\n",
       "      <td>...</td>\n",
       "      <td>...</td>\n",
       "      <td>...</td>\n",
       "      <td>...</td>\n",
       "      <td>...</td>\n",
       "      <td>...</td>\n",
       "      <td>...</td>\n",
       "      <td>...</td>\n",
       "      <td>...</td>\n",
       "      <td>...</td>\n",
       "      <td>...</td>\n",
       "    </tr>\n",
       "    <tr>\n",
       "      <th>8048</th>\n",
       "      <td>ZWE</td>\n",
       "      <td>Zimbabwe</td>\n",
       "      <td>AFRO</td>\n",
       "      <td>2023.0</td>\n",
       "      <td>VITAMINA</td>\n",
       "      <td>Vitamin A supplements</td>\n",
       "      <td>3.0</td>\n",
       "      <td>NaN</td>\n",
       "      <td>General/routine</td>\n",
       "      <td>NATIONAL</td>\n",
       "      <td>M18</td>\n",
       "      <td>M6-M59</td>\n",
       "    </tr>\n",
       "    <tr>\n",
       "      <th>8049</th>\n",
       "      <td>ZWE</td>\n",
       "      <td>Zimbabwe</td>\n",
       "      <td>AFRO</td>\n",
       "      <td>2023.0</td>\n",
       "      <td>VITAMINA</td>\n",
       "      <td>Vitamin A supplements</td>\n",
       "      <td>4.0</td>\n",
       "      <td>NaN</td>\n",
       "      <td>General/routine</td>\n",
       "      <td>NATIONAL</td>\n",
       "      <td>M24</td>\n",
       "      <td>M6-M59</td>\n",
       "    </tr>\n",
       "    <tr>\n",
       "      <th>8050</th>\n",
       "      <td>ZWE</td>\n",
       "      <td>Zimbabwe</td>\n",
       "      <td>AFRO</td>\n",
       "      <td>2023.0</td>\n",
       "      <td>VITAMINA</td>\n",
       "      <td>Vitamin A supplements</td>\n",
       "      <td>5.0</td>\n",
       "      <td>NaN</td>\n",
       "      <td>General/routine</td>\n",
       "      <td>NATIONAL</td>\n",
       "      <td>M30</td>\n",
       "      <td>M6-M59</td>\n",
       "    </tr>\n",
       "    <tr>\n",
       "      <th>8051</th>\n",
       "      <td>ZWE</td>\n",
       "      <td>Zimbabwe</td>\n",
       "      <td>AFRO</td>\n",
       "      <td>2023.0</td>\n",
       "      <td>VITAMINA</td>\n",
       "      <td>Vitamin A supplements</td>\n",
       "      <td>6.0</td>\n",
       "      <td>NaN</td>\n",
       "      <td>General/routine</td>\n",
       "      <td>NATIONAL</td>\n",
       "      <td>M36</td>\n",
       "      <td>M6-M59</td>\n",
       "    </tr>\n",
       "    <tr>\n",
       "      <th>8052</th>\n",
       "      <td>Created: 2025-02-01 16:10 UTC</td>\n",
       "      <td>NaN</td>\n",
       "      <td>NaN</td>\n",
       "      <td>NaN</td>\n",
       "      <td>NaN</td>\n",
       "      <td>NaN</td>\n",
       "      <td>NaN</td>\n",
       "      <td>NaN</td>\n",
       "      <td>NaN</td>\n",
       "      <td>NaN</td>\n",
       "      <td>NaN</td>\n",
       "      <td>NaN</td>\n",
       "    </tr>\n",
       "  </tbody>\n",
       "</table>\n",
       "<p>8053 rows × 12 columns</p>\n",
       "</div>"
      ],
      "text/plain": [
       "                         ISO_3_CODE COUNTRYNAME WHO_REGION    YEAR  \\\n",
       "0                               ABW       Aruba       AMRO  2023.0   \n",
       "1                               ABW       Aruba       AMRO  2023.0   \n",
       "2                               ABW       Aruba       AMRO  2023.0   \n",
       "3                               ABW       Aruba       AMRO  2023.0   \n",
       "4                               ABW       Aruba       AMRO  2023.0   \n",
       "...                             ...         ...        ...     ...   \n",
       "8048                            ZWE    Zimbabwe       AFRO  2023.0   \n",
       "8049                            ZWE    Zimbabwe       AFRO  2023.0   \n",
       "8050                            ZWE    Zimbabwe       AFRO  2023.0   \n",
       "8051                            ZWE    Zimbabwe       AFRO  2023.0   \n",
       "8052  Created: 2025-02-01 16:10 UTC         NaN        NaN     NaN   \n",
       "\n",
       "     VACCINECODE               VACCINE_DESCRIPTION  SCHEDULEROUNDS  TARGETPOP  \\\n",
       "0     DTAPHIBIPV  DTaP-Hib-IPV (acellular) vaccine             1.0        NaN   \n",
       "1     DTAPHIBIPV  DTaP-Hib-IPV (acellular) vaccine             2.0        NaN   \n",
       "2     DTAPHIBIPV  DTaP-Hib-IPV (acellular) vaccine             3.0        NaN   \n",
       "3     DTAPHIBIPV  DTaP-Hib-IPV (acellular) vaccine             4.0    B_2YL_W   \n",
       "4        DTAPIPV      DTaP-IPV (acellular) vaccine             5.0  B_CHILD_W   \n",
       "...          ...                               ...             ...        ...   \n",
       "8048    VITAMINA             Vitamin A supplements             3.0        NaN   \n",
       "8049    VITAMINA             Vitamin A supplements             4.0        NaN   \n",
       "8050    VITAMINA             Vitamin A supplements             5.0        NaN   \n",
       "8051    VITAMINA             Vitamin A supplements             6.0        NaN   \n",
       "8052         NaN                               NaN             NaN        NaN   \n",
       "\n",
       "     TARGETPOP_DESCRIPTION   GEOAREA AGEADMINISTERED SOURCECOMMENT  \n",
       "0          General/routine  NATIONAL              M2           NaN  \n",
       "1          General/routine  NATIONAL              M4           NaN  \n",
       "2          General/routine  NATIONAL              M6           NaN  \n",
       "3          General/routine  NATIONAL             M15           NaN  \n",
       "4          General/routine  NATIONAL              Y4           NaN  \n",
       "...                    ...       ...             ...           ...  \n",
       "8048       General/routine  NATIONAL             M18        M6-M59  \n",
       "8049       General/routine  NATIONAL             M24        M6-M59  \n",
       "8050       General/routine  NATIONAL             M30        M6-M59  \n",
       "8051       General/routine  NATIONAL             M36        M6-M59  \n",
       "8052                   NaN       NaN             NaN           NaN  \n",
       "\n",
       "[8053 rows x 12 columns]"
      ]
     },
     "execution_count": 58,
     "metadata": {},
     "output_type": "execute_result"
    }
   ],
   "source": [
    "v_schedule_data=pd.read_excel(table_5)\n",
    "v_schedule_data"
   ]
  },
  {
   "cell_type": "code",
   "execution_count": 59,
   "metadata": {},
   "outputs": [
    {
     "name": "stdout",
     "output_type": "stream",
     "text": [
      "<class 'pandas.core.frame.DataFrame'>\n",
      "RangeIndex: 8053 entries, 0 to 8052\n",
      "Data columns (total 12 columns):\n",
      " #   Column                 Non-Null Count  Dtype  \n",
      "---  ------                 --------------  -----  \n",
      " 0   ISO_3_CODE             8053 non-null   object \n",
      " 1   COUNTRYNAME            8052 non-null   object \n",
      " 2   WHO_REGION             8052 non-null   object \n",
      " 3   YEAR                   8052 non-null   float64\n",
      " 4   VACCINECODE            8052 non-null   object \n",
      " 5   VACCINE_DESCRIPTION    8052 non-null   object \n",
      " 6   SCHEDULEROUNDS         8052 non-null   float64\n",
      " 7   TARGETPOP              3795 non-null   object \n",
      " 8   TARGETPOP_DESCRIPTION  8052 non-null   object \n",
      " 9   GEOAREA                8022 non-null   object \n",
      " 10  AGEADMINISTERED        7007 non-null   object \n",
      " 11  SOURCECOMMENT          5139 non-null   object \n",
      "dtypes: float64(2), object(10)\n",
      "memory usage: 755.1+ KB\n"
     ]
    }
   ],
   "source": [
    "v_schedule_data.info()"
   ]
  },
  {
   "cell_type": "code",
   "execution_count": 60,
   "metadata": {},
   "outputs": [
    {
     "data": {
      "text/plain": [
       "0                                 ABW\n",
       "1                                 ABW\n",
       "2                                 ABW\n",
       "3                                 ABW\n",
       "4                                 ABW\n",
       "                    ...              \n",
       "8048                              ZWE\n",
       "8049                              ZWE\n",
       "8050                              ZWE\n",
       "8051                              ZWE\n",
       "8052    Created: 2025-02-01 16:10 UTC\n",
       "Name: ISO_3_CODE, Length: 8053, dtype: object"
      ]
     },
     "execution_count": 60,
     "metadata": {},
     "output_type": "execute_result"
    }
   ],
   "source": [
    "v_schedule_data[\"ISO_3_CODE\"]"
   ]
  },
  {
   "cell_type": "code",
   "execution_count": 61,
   "metadata": {},
   "outputs": [
    {
     "data": {
      "text/plain": [
       "ISO_3_CODE                  0\n",
       "COUNTRYNAME                 1\n",
       "WHO_REGION                  1\n",
       "YEAR                        1\n",
       "VACCINECODE                 1\n",
       "VACCINE_DESCRIPTION         1\n",
       "SCHEDULEROUNDS              1\n",
       "TARGETPOP                4258\n",
       "TARGETPOP_DESCRIPTION       1\n",
       "GEOAREA                    31\n",
       "AGEADMINISTERED          1046\n",
       "SOURCECOMMENT            2914\n",
       "dtype: int64"
      ]
     },
     "execution_count": 61,
     "metadata": {},
     "output_type": "execute_result"
    }
   ],
   "source": [
    "v_schedule_data.isnull().sum()"
   ]
  },
  {
   "cell_type": "code",
   "execution_count": 62,
   "metadata": {},
   "outputs": [
    {
     "data": {
      "text/html": [
       "<div>\n",
       "<style scoped>\n",
       "    .dataframe tbody tr th:only-of-type {\n",
       "        vertical-align: middle;\n",
       "    }\n",
       "\n",
       "    .dataframe tbody tr th {\n",
       "        vertical-align: top;\n",
       "    }\n",
       "\n",
       "    .dataframe thead th {\n",
       "        text-align: right;\n",
       "    }\n",
       "</style>\n",
       "<table border=\"1\" class=\"dataframe\">\n",
       "  <thead>\n",
       "    <tr style=\"text-align: right;\">\n",
       "      <th></th>\n",
       "      <th>YEAR</th>\n",
       "      <th>SCHEDULEROUNDS</th>\n",
       "    </tr>\n",
       "  </thead>\n",
       "  <tbody>\n",
       "    <tr>\n",
       "      <th>count</th>\n",
       "      <td>8052.000000</td>\n",
       "      <td>8052.000000</td>\n",
       "    </tr>\n",
       "    <tr>\n",
       "      <th>mean</th>\n",
       "      <td>2022.941505</td>\n",
       "      <td>2.053403</td>\n",
       "    </tr>\n",
       "    <tr>\n",
       "      <th>std</th>\n",
       "      <td>0.441237</td>\n",
       "      <td>1.316560</td>\n",
       "    </tr>\n",
       "    <tr>\n",
       "      <th>min</th>\n",
       "      <td>2019.000000</td>\n",
       "      <td>1.000000</td>\n",
       "    </tr>\n",
       "    <tr>\n",
       "      <th>25%</th>\n",
       "      <td>2023.000000</td>\n",
       "      <td>1.000000</td>\n",
       "    </tr>\n",
       "    <tr>\n",
       "      <th>50%</th>\n",
       "      <td>2023.000000</td>\n",
       "      <td>2.000000</td>\n",
       "    </tr>\n",
       "    <tr>\n",
       "      <th>75%</th>\n",
       "      <td>2023.000000</td>\n",
       "      <td>3.000000</td>\n",
       "    </tr>\n",
       "    <tr>\n",
       "      <th>max</th>\n",
       "      <td>2023.000000</td>\n",
       "      <td>7.000000</td>\n",
       "    </tr>\n",
       "  </tbody>\n",
       "</table>\n",
       "</div>"
      ],
      "text/plain": [
       "              YEAR  SCHEDULEROUNDS\n",
       "count  8052.000000     8052.000000\n",
       "mean   2022.941505        2.053403\n",
       "std       0.441237        1.316560\n",
       "min    2019.000000        1.000000\n",
       "25%    2023.000000        1.000000\n",
       "50%    2023.000000        2.000000\n",
       "75%    2023.000000        3.000000\n",
       "max    2023.000000        7.000000"
      ]
     },
     "execution_count": 62,
     "metadata": {},
     "output_type": "execute_result"
    }
   ],
   "source": [
    "v_schedule_data.describe()"
   ]
  },
  {
   "cell_type": "code",
   "execution_count": 63,
   "metadata": {},
   "outputs": [
    {
     "data": {
      "text/plain": [
       "np.int64(0)"
      ]
     },
     "execution_count": 63,
     "metadata": {},
     "output_type": "execute_result"
    }
   ],
   "source": [
    "v_schedule_data.duplicated().sum()"
   ]
  },
  {
   "cell_type": "code",
   "execution_count": 64,
   "metadata": {},
   "outputs": [],
   "source": [
    "v_schedule_data.dropna(subset=[\"TARGETPOP\"],inplace=True)"
   ]
  },
  {
   "cell_type": "code",
   "execution_count": 65,
   "metadata": {},
   "outputs": [
    {
     "data": {
      "text/plain": [
       "ISO_3_CODE                  0\n",
       "COUNTRYNAME                 0\n",
       "WHO_REGION                  0\n",
       "YEAR                        0\n",
       "VACCINECODE                 0\n",
       "VACCINE_DESCRIPTION         0\n",
       "SCHEDULEROUNDS              0\n",
       "TARGETPOP                   0\n",
       "TARGETPOP_DESCRIPTION       0\n",
       "GEOAREA                    16\n",
       "AGEADMINISTERED          1026\n",
       "SOURCECOMMENT             504\n",
       "dtype: int64"
      ]
     },
     "execution_count": 65,
     "metadata": {},
     "output_type": "execute_result"
    }
   ],
   "source": [
    "v_schedule_data.isnull().sum()"
   ]
  },
  {
   "cell_type": "code",
   "execution_count": 66,
   "metadata": {},
   "outputs": [
    {
     "data": {
      "text/plain": [
       "'NATIONAL'"
      ]
     },
     "execution_count": 66,
     "metadata": {},
     "output_type": "execute_result"
    }
   ],
   "source": [
    "v_schedule_data[\"GEOAREA\"].mode()[0]"
   ]
  },
  {
   "cell_type": "code",
   "execution_count": 67,
   "metadata": {},
   "outputs": [],
   "source": [
    "##fill the geoarea to mode \n",
    "v_schedule_data[\"GEOAREA\"]=v_schedule_data[\"GEOAREA\"].fillna(v_schedule_data[\"GEOAREA\"].mode()[0])"
   ]
  },
  {
   "cell_type": "code",
   "execution_count": 68,
   "metadata": {},
   "outputs": [
    {
     "data": {
      "text/plain": [
       "ISO_3_CODE                  0\n",
       "COUNTRYNAME                 0\n",
       "WHO_REGION                  0\n",
       "YEAR                        0\n",
       "VACCINECODE                 0\n",
       "VACCINE_DESCRIPTION         0\n",
       "SCHEDULEROUNDS              0\n",
       "TARGETPOP                   0\n",
       "TARGETPOP_DESCRIPTION       0\n",
       "GEOAREA                     0\n",
       "AGEADMINISTERED          1026\n",
       "SOURCECOMMENT             504\n",
       "dtype: int64"
      ]
     },
     "execution_count": 68,
     "metadata": {},
     "output_type": "execute_result"
    }
   ],
   "source": [
    "v_schedule_data.isnull().sum()"
   ]
  },
  {
   "cell_type": "code",
   "execution_count": 69,
   "metadata": {},
   "outputs": [
    {
     "data": {
      "text/plain": [
       "'1st contact'"
      ]
     },
     "execution_count": 69,
     "metadata": {},
     "output_type": "execute_result"
    }
   ],
   "source": [
    "v_schedule_data[\"AGEADMINISTERED\"].mode()[0]"
   ]
  },
  {
   "cell_type": "code",
   "execution_count": 70,
   "metadata": {},
   "outputs": [],
   "source": [
    "##fill the geoarea to mode \n",
    "v_schedule_data[\"AGEADMINISTERED\"]=v_schedule_data[\"AGEADMINISTERED\"].fillna(v_schedule_data[\"AGEADMINISTERED\"].mode()[0])"
   ]
  },
  {
   "cell_type": "code",
   "execution_count": 71,
   "metadata": {},
   "outputs": [
    {
     "data": {
      "text/plain": [
       "ISO_3_CODE                 0\n",
       "COUNTRYNAME                0\n",
       "WHO_REGION                 0\n",
       "YEAR                       0\n",
       "VACCINECODE                0\n",
       "VACCINE_DESCRIPTION        0\n",
       "SCHEDULEROUNDS             0\n",
       "TARGETPOP                  0\n",
       "TARGETPOP_DESCRIPTION      0\n",
       "GEOAREA                    0\n",
       "AGEADMINISTERED            0\n",
       "SOURCECOMMENT            504\n",
       "dtype: int64"
      ]
     },
     "execution_count": 71,
     "metadata": {},
     "output_type": "execute_result"
    }
   ],
   "source": [
    "v_schedule_data.isnull().sum()"
   ]
  },
  {
   "cell_type": "code",
   "execution_count": 72,
   "metadata": {},
   "outputs": [],
   "source": [
    "# where sourcecomment is null fill it with notmentioned comment \n",
    "v_schedule_data.fillna(\"Not mentioned\",inplace =True)"
   ]
  },
  {
   "cell_type": "code",
   "execution_count": 73,
   "metadata": {},
   "outputs": [
    {
     "data": {
      "text/plain": [
       "ISO_3_CODE               0\n",
       "COUNTRYNAME              0\n",
       "WHO_REGION               0\n",
       "YEAR                     0\n",
       "VACCINECODE              0\n",
       "VACCINE_DESCRIPTION      0\n",
       "SCHEDULEROUNDS           0\n",
       "TARGETPOP                0\n",
       "TARGETPOP_DESCRIPTION    0\n",
       "GEOAREA                  0\n",
       "AGEADMINISTERED          0\n",
       "SOURCECOMMENT            0\n",
       "dtype: int64"
      ]
     },
     "execution_count": 73,
     "metadata": {},
     "output_type": "execute_result"
    }
   ],
   "source": [
    "v_schedule_data.isnull().sum()"
   ]
  },
  {
   "cell_type": "code",
   "execution_count": 74,
   "metadata": {},
   "outputs": [
    {
     "data": {
      "text/html": [
       "<div>\n",
       "<style scoped>\n",
       "    .dataframe tbody tr th:only-of-type {\n",
       "        vertical-align: middle;\n",
       "    }\n",
       "\n",
       "    .dataframe tbody tr th {\n",
       "        vertical-align: top;\n",
       "    }\n",
       "\n",
       "    .dataframe thead th {\n",
       "        text-align: right;\n",
       "    }\n",
       "</style>\n",
       "<table border=\"1\" class=\"dataframe\">\n",
       "  <thead>\n",
       "    <tr style=\"text-align: right;\">\n",
       "      <th></th>\n",
       "      <th>ISO_3_CODE</th>\n",
       "      <th>COUNTRYNAME</th>\n",
       "      <th>WHO_REGION</th>\n",
       "      <th>YEAR</th>\n",
       "      <th>VACCINECODE</th>\n",
       "      <th>VACCINE_DESCRIPTION</th>\n",
       "      <th>SCHEDULEROUNDS</th>\n",
       "      <th>TARGETPOP</th>\n",
       "      <th>TARGETPOP_DESCRIPTION</th>\n",
       "      <th>GEOAREA</th>\n",
       "      <th>AGEADMINISTERED</th>\n",
       "      <th>SOURCECOMMENT</th>\n",
       "    </tr>\n",
       "  </thead>\n",
       "  <tbody>\n",
       "    <tr>\n",
       "      <th>137</th>\n",
       "      <td>ALB</td>\n",
       "      <td>Albania</td>\n",
       "      <td>EURO</td>\n",
       "      <td>2023.0</td>\n",
       "      <td>HPV4</td>\n",
       "      <td>HPV-4 (Human Papilloma Virus 4-valent) vaccine</td>\n",
       "      <td>1.0</td>\n",
       "      <td>FEMALE</td>\n",
       "      <td>HPV for females only</td>\n",
       "      <td>NATIONAL</td>\n",
       "      <td>Y13</td>\n",
       "      <td>Female from November 2022</td>\n",
       "    </tr>\n",
       "    <tr>\n",
       "      <th>2067</th>\n",
       "      <td>DJI</td>\n",
       "      <td>Djibouti</td>\n",
       "      <td>EMRO</td>\n",
       "      <td>2023.0</td>\n",
       "      <td>TD_S</td>\n",
       "      <td>Td (Tetanus toxoid and diphtheria for older ch...</td>\n",
       "      <td>1.0</td>\n",
       "      <td>PW</td>\n",
       "      <td>Pregnant women</td>\n",
       "      <td>NATIONAL</td>\n",
       "      <td>1st contact</td>\n",
       "      <td>Femmes enceintes</td>\n",
       "    </tr>\n",
       "    <tr>\n",
       "      <th>6814</th>\n",
       "      <td>SVN</td>\n",
       "      <td>Slovenia</td>\n",
       "      <td>EURO</td>\n",
       "      <td>2023.0</td>\n",
       "      <td>IPV</td>\n",
       "      <td>IPV (Inactivated polio vaccine)</td>\n",
       "      <td>1.0</td>\n",
       "      <td>RISKGROUPS</td>\n",
       "      <td>Risk group(s)</td>\n",
       "      <td>NATIONAL</td>\n",
       "      <td>1st contact</td>\n",
       "      <td>Epidemiological indications</td>\n",
       "    </tr>\n",
       "    <tr>\n",
       "      <th>7584</th>\n",
       "      <td>USA</td>\n",
       "      <td>United States of America</td>\n",
       "      <td>AMRO</td>\n",
       "      <td>2023.0</td>\n",
       "      <td>HEPB_ADULT</td>\n",
       "      <td>Adult Hepatitis B vaccine</td>\n",
       "      <td>2.0</td>\n",
       "      <td>ADULTS</td>\n",
       "      <td>Adults</td>\n",
       "      <td>NATIONAL</td>\n",
       "      <td>+M1</td>\n",
       "      <td>2 or 3 doses depending on vaccine</td>\n",
       "    </tr>\n",
       "    <tr>\n",
       "      <th>7984</th>\n",
       "      <td>ZMB</td>\n",
       "      <td>Zambia</td>\n",
       "      <td>AFRO</td>\n",
       "      <td>2023.0</td>\n",
       "      <td>HPV4</td>\n",
       "      <td>HPV-4 (Human Papilloma Virus 4-valent) vaccine</td>\n",
       "      <td>2.0</td>\n",
       "      <td>RISKGROUPS</td>\n",
       "      <td>Risk group(s)</td>\n",
       "      <td>NATIONAL</td>\n",
       "      <td>+M2</td>\n",
       "      <td>In 2023, Zambia also conducted an HPV Multi Ag...</td>\n",
       "    </tr>\n",
       "  </tbody>\n",
       "</table>\n",
       "</div>"
      ],
      "text/plain": [
       "     ISO_3_CODE               COUNTRYNAME WHO_REGION    YEAR VACCINECODE  \\\n",
       "137         ALB                   Albania       EURO  2023.0        HPV4   \n",
       "2067        DJI                  Djibouti       EMRO  2023.0        TD_S   \n",
       "6814        SVN                  Slovenia       EURO  2023.0         IPV   \n",
       "7584        USA  United States of America       AMRO  2023.0  HEPB_ADULT   \n",
       "7984        ZMB                    Zambia       AFRO  2023.0        HPV4   \n",
       "\n",
       "                                    VACCINE_DESCRIPTION  SCHEDULEROUNDS  \\\n",
       "137      HPV-4 (Human Papilloma Virus 4-valent) vaccine             1.0   \n",
       "2067  Td (Tetanus toxoid and diphtheria for older ch...             1.0   \n",
       "6814                    IPV (Inactivated polio vaccine)             1.0   \n",
       "7584                          Adult Hepatitis B vaccine             2.0   \n",
       "7984     HPV-4 (Human Papilloma Virus 4-valent) vaccine             2.0   \n",
       "\n",
       "       TARGETPOP TARGETPOP_DESCRIPTION   GEOAREA AGEADMINISTERED  \\\n",
       "137       FEMALE  HPV for females only  NATIONAL             Y13   \n",
       "2067          PW        Pregnant women  NATIONAL     1st contact   \n",
       "6814  RISKGROUPS         Risk group(s)  NATIONAL     1st contact   \n",
       "7584      ADULTS                Adults  NATIONAL             +M1   \n",
       "7984  RISKGROUPS         Risk group(s)  NATIONAL             +M2   \n",
       "\n",
       "                                          SOURCECOMMENT  \n",
       "137                           Female from November 2022  \n",
       "2067                                   Femmes enceintes  \n",
       "6814                        Epidemiological indications  \n",
       "7584                  2 or 3 doses depending on vaccine  \n",
       "7984  In 2023, Zambia also conducted an HPV Multi Ag...  "
      ]
     },
     "execution_count": 74,
     "metadata": {},
     "output_type": "execute_result"
    }
   ],
   "source": [
    "v_schedule_data.sample(5)"
   ]
  },
  {
   "cell_type": "markdown",
   "metadata": {},
   "source": [
    "#CONNECTING PYTHON TO MY SQL"
   ]
  },
  {
   "cell_type": "code",
   "execution_count": 75,
   "metadata": {},
   "outputs": [
    {
     "name": "stdout",
     "output_type": "stream",
     "text": [
      "Defaulting to user installation because normal site-packages is not writeable\n",
      "Requirement already satisfied: pymysql in c:\\users\\lenovo\\appdata\\local\\packages\\pythonsoftwarefoundation.python.3.12_qbz5n2kfra8p0\\localcache\\local-packages\\python312\\site-packages (1.1.1)\n",
      "Note: you may need to restart the kernel to use updated packages.\n"
     ]
    },
    {
     "name": "stderr",
     "output_type": "stream",
     "text": [
      "\n",
      "[notice] A new release of pip is available: 24.3.1 -> 25.0.1\n",
      "[notice] To update, run: C:\\Users\\Lenovo\\AppData\\Local\\Microsoft\\WindowsApps\\PythonSoftwareFoundation.Python.3.12_qbz5n2kfra8p0\\python.exe -m pip install --upgrade pip\n"
     ]
    }
   ],
   "source": [
    "pip install pymysql\n"
   ]
  },
  {
   "cell_type": "code",
   "execution_count": 76,
   "metadata": {},
   "outputs": [],
   "source": [
    "import pymysql"
   ]
  },
  {
   "cell_type": "code",
   "execution_count": 77,
   "metadata": {},
   "outputs": [
    {
     "name": "stdout",
     "output_type": "stream",
     "text": [
      "<pymysql.connections.Connection object at 0x000001505749B9B0>\n"
     ]
    }
   ],
   "source": [
    "connection=pymysql.connect(\n",
    "    host=\"localhost\",\n",
    "    user=\"root\",\n",
    "    password=\"Anuradha@12345\",\n",
    "    autocommit=True\n",
    "    )  \n",
    "print(connection)"
   ]
  },
  {
   "cell_type": "code",
   "execution_count": 78,
   "metadata": {},
   "outputs": [],
   "source": [
    "cursor=connection.cursor()"
   ]
  },
  {
   "cell_type": "code",
   "execution_count": 79,
   "metadata": {},
   "outputs": [],
   "source": [
    "# cursor.execute(\"CREATE DATABASE VACCINATION_PROJECT\")\n",
    "# connection.commit()\n",
    "# print(\"database created successfully\")"
   ]
  },
  {
   "cell_type": "code",
   "execution_count": 80,
   "metadata": {},
   "outputs": [
    {
     "name": "stdout",
     "output_type": "stream",
     "text": [
      "('information_schema',)\n",
      "('mysql',)\n",
      "('performance_schema',)\n",
      "('sakila',)\n",
      "('sqlpython3',)\n",
      "('sys',)\n",
      "('vaccination_project',)\n",
      "('world',)\n"
     ]
    }
   ],
   "source": [
    "cursor.execute(\"SHOW DATABASES\")\n",
    "for x in cursor:\n",
    "   print(x)"
   ]
  },
  {
   "cell_type": "code",
   "execution_count": 81,
   "metadata": {},
   "outputs": [
    {
     "data": {
      "text/plain": [
       "0"
      ]
     },
     "execution_count": 81,
     "metadata": {},
     "output_type": "execute_result"
    }
   ],
   "source": [
    "cursor.execute(\"USE vaccination_project\")"
   ]
  },
  {
   "cell_type": "code",
   "execution_count": 82,
   "metadata": {},
   "outputs": [],
   "source": [
    "\n",
    "create_table_query=\"\"\" \n",
    "CREATE TABLE IF NOT exists coverage_data(\n",
    "    GROUP_TYPE varchar(300),\n",
    "    CODE varchar(300),\n",
    "    NAME varchar(300),\n",
    "    YEAR int,\n",
    "    ANTIGEN varchar(300),\n",
    "    ANTIGEN_DESCRIPTION TEXT,\n",
    "    COVERAGE_CATEGORY varchar(300),\n",
    "    COVERAGE_CATEGORY_DESCRIPTION text,\n",
    "    TARGET_NUMBER int,\n",
    "    DOSES Bigint,\n",
    "    COVERAGE decimal(10,2)\n",
    "    )\n",
    "\"\"\"\n",
    "cursor.execute(create_table_query)\n",
    "connection.commit()"
   ]
  },
  {
   "cell_type": "code",
   "execution_count": 83,
   "metadata": {},
   "outputs": [],
   "source": [
    "# define the insert query\n",
    "insert_query=\"\"\"\n",
    "INSERT INTO coverage_data( GROUP_TYPE,CODE,NAME,YEAR,ANTIGEN,ANTIGEN_DESCRIPTION,COVERAGE_CATEGORY,COVERAGE_CATEGORY_DESCRIPTION,TARGET_NUMBER,DOSES,COVERAGE) VALUES (%s,%s,%s,%s,%s,%s,%s,%s,%s,%s,%s)\n",
    "\"\"\""
   ]
  },
  {
   "cell_type": "code",
   "execution_count": 84,
   "metadata": {},
   "outputs": [],
   "source": [
    "import numpy as np"
   ]
  },
  {
   "cell_type": "code",
   "execution_count": 85,
   "metadata": {},
   "outputs": [],
   "source": [
    "coverage_data = coverage_data.replace({np.nan: None})"
   ]
  },
  {
   "cell_type": "code",
   "execution_count": 86,
   "metadata": {},
   "outputs": [],
   "source": [
    "coverage_data.rename(columns={\"GROUP\":\"GROUP_TYPE\"},inplace=True)"
   ]
  },
  {
   "cell_type": "code",
   "execution_count": 87,
   "metadata": {},
   "outputs": [],
   "source": [
    "create_table_query=\"\"\"\n",
    "CREATE TABLE IF NOT exists v_schedule_data(\n",
    "    ISO_3_CODE varchar(300),\n",
    "    COUNTRYNAME varchar(300),\n",
    "    WHO_REGION varchar(300),\n",
    "    YEAR int,\n",
    "    VACCINECODE varchar(300),\n",
    "    VACCINE_DESCRIPTION TEXT,\n",
    "    SCHEDULEROUNDS int,\n",
    "    TARGETPOP varchar(300),\n",
    "    TARGETPOP_DESCRIPTION text,\n",
    "    GEOAREA varchar(300),\n",
    "    AGEADMINISTERED varchar(300),\n",
    "    SOURCECOMMENT text\n",
    "    )\n",
    "\"\"\"\n",
    "cursor.execute(create_table_query)\n",
    "connection.commit()"
   ]
  },
  {
   "cell_type": "code",
   "execution_count": 88,
   "metadata": {},
   "outputs": [
    {
     "data": {
      "text/html": [
       "<div>\n",
       "<style scoped>\n",
       "    .dataframe tbody tr th:only-of-type {\n",
       "        vertical-align: middle;\n",
       "    }\n",
       "\n",
       "    .dataframe tbody tr th {\n",
       "        vertical-align: top;\n",
       "    }\n",
       "\n",
       "    .dataframe thead th {\n",
       "        text-align: right;\n",
       "    }\n",
       "</style>\n",
       "<table border=\"1\" class=\"dataframe\">\n",
       "  <thead>\n",
       "    <tr style=\"text-align: right;\">\n",
       "      <th></th>\n",
       "      <th>ISO_3_CODE</th>\n",
       "      <th>COUNTRYNAME</th>\n",
       "      <th>WHO_REGION</th>\n",
       "      <th>YEAR</th>\n",
       "      <th>VACCINECODE</th>\n",
       "      <th>VACCINE_DESCRIPTION</th>\n",
       "      <th>SCHEDULEROUNDS</th>\n",
       "      <th>TARGETPOP</th>\n",
       "      <th>TARGETPOP_DESCRIPTION</th>\n",
       "      <th>GEOAREA</th>\n",
       "      <th>AGEADMINISTERED</th>\n",
       "      <th>SOURCECOMMENT</th>\n",
       "    </tr>\n",
       "  </thead>\n",
       "  <tbody>\n",
       "    <tr>\n",
       "      <th>7635</th>\n",
       "      <td>USA</td>\n",
       "      <td>United States of America</td>\n",
       "      <td>AMRO</td>\n",
       "      <td>2023.0</td>\n",
       "      <td>TYPHOID_CONJ</td>\n",
       "      <td>Typhoid conjugate vaccine</td>\n",
       "      <td>2.0</td>\n",
       "      <td>TRAVELLERS</td>\n",
       "      <td>Travellers</td>\n",
       "      <td>NATIONAL</td>\n",
       "      <td>+Y5</td>\n",
       "      <td>For high-risk travelers - ongoing every 5 year...</td>\n",
       "    </tr>\n",
       "  </tbody>\n",
       "</table>\n",
       "</div>"
      ],
      "text/plain": [
       "     ISO_3_CODE               COUNTRYNAME WHO_REGION    YEAR   VACCINECODE  \\\n",
       "7635        USA  United States of America       AMRO  2023.0  TYPHOID_CONJ   \n",
       "\n",
       "            VACCINE_DESCRIPTION  SCHEDULEROUNDS   TARGETPOP  \\\n",
       "7635  Typhoid conjugate vaccine             2.0  TRAVELLERS   \n",
       "\n",
       "     TARGETPOP_DESCRIPTION   GEOAREA AGEADMINISTERED  \\\n",
       "7635            Travellers  NATIONAL             +Y5   \n",
       "\n",
       "                                          SOURCECOMMENT  \n",
       "7635  For high-risk travelers - ongoing every 5 year...  "
      ]
     },
     "execution_count": 88,
     "metadata": {},
     "output_type": "execute_result"
    }
   ],
   "source": [
    "v_schedule_data.sample()"
   ]
  },
  {
   "cell_type": "code",
   "execution_count": 89,
   "metadata": {},
   "outputs": [
    {
     "name": "stdout",
     "output_type": "stream",
     "text": [
      "Data inserted using to_list()\n"
     ]
    }
   ],
   "source": [
    "data_list = v_schedule_data.values.tolist()\n",
    "query = \"\"\"\n",
    "    INSERT INTO v_schedule_data( ISO_3_CODE,COUNTRYNAME,WHO_REGION,YEAR,VACCINECODE,VACCINE_DESCRIPTION,SCHEDULEROUNDS,TARGETPOP,TARGETPOP_DESCRIPTION,GEOAREA,AGEADMINISTERED,SOURCECOMMENT) \n",
    "    VALUES (%s, %s, %s, %s, %s, %s, %s, %s, %s, %s,%s, %s);\n",
    "\"\"\"\n",
    "cursor.executemany(query, data_list)\n",
    "connection.commit()\n",
    "print(\"Data inserted using to_list()\")"
   ]
  },
  {
   "cell_type": "code",
   "execution_count": 90,
   "metadata": {},
   "outputs": [
    {
     "data": {
      "text/html": [
       "<div>\n",
       "<style scoped>\n",
       "    .dataframe tbody tr th:only-of-type {\n",
       "        vertical-align: middle;\n",
       "    }\n",
       "\n",
       "    .dataframe tbody tr th {\n",
       "        vertical-align: top;\n",
       "    }\n",
       "\n",
       "    .dataframe thead th {\n",
       "        text-align: right;\n",
       "    }\n",
       "</style>\n",
       "<table border=\"1\" class=\"dataframe\">\n",
       "  <thead>\n",
       "    <tr style=\"text-align: right;\">\n",
       "      <th></th>\n",
       "      <th>ISO_3_CODE</th>\n",
       "      <th>COUNTRYNAME</th>\n",
       "      <th>WHO_REGION</th>\n",
       "      <th>YEAR</th>\n",
       "      <th>DESCRIPTION</th>\n",
       "      <th>INTRO</th>\n",
       "    </tr>\n",
       "  </thead>\n",
       "  <tbody>\n",
       "    <tr>\n",
       "      <th>61251</th>\n",
       "      <td>JAM</td>\n",
       "      <td>Jamaica</td>\n",
       "      <td>AMRO</td>\n",
       "      <td>2023.0</td>\n",
       "      <td>Hepatitis B vaccine</td>\n",
       "      <td>Yes</td>\n",
       "    </tr>\n",
       "  </tbody>\n",
       "</table>\n",
       "</div>"
      ],
      "text/plain": [
       "      ISO_3_CODE COUNTRYNAME WHO_REGION    YEAR          DESCRIPTION INTRO\n",
       "61251        JAM     Jamaica       AMRO  2023.0  Hepatitis B vaccine   Yes"
      ]
     },
     "execution_count": 90,
     "metadata": {},
     "output_type": "execute_result"
    }
   ],
   "source": [
    "v_intro_data.sample()"
   ]
  },
  {
   "cell_type": "code",
   "execution_count": 91,
   "metadata": {},
   "outputs": [],
   "source": [
    "create_table_query=\"\"\"\n",
    "CREATE TABLE IF NOT exists v_intro_data(\n",
    "    ISO_3_CODE varchar(300),\n",
    "    COUNTRYNAME varchar(300),\n",
    "    WHO_REGION varchar(300),\n",
    "    YEAR int,\n",
    "    DESCRIPTION text,\n",
    "    INTRO varchar(300) \n",
    "    )\n",
    "\"\"\"\n",
    "cursor.execute(create_table_query)\n",
    "connection.commit()"
   ]
  },
  {
   "cell_type": "code",
   "execution_count": 92,
   "metadata": {},
   "outputs": [
    {
     "name": "stdout",
     "output_type": "stream",
     "text": [
      "Data inserted using to_list()\n"
     ]
    }
   ],
   "source": [
    "data_list = v_intro_data.values.tolist()\n",
    "query = \"\"\"\n",
    "    INSERT INTO v_intro_data( ISO_3_CODE,COUNTRYNAME,WHO_REGION,YEAR,DESCRIPTION,INTRO) \n",
    "    VALUES (%s, %s, %s, %s, %s, %s);\n",
    "\"\"\"\n",
    "cursor.executemany(query, data_list)\n",
    "connection.commit()\n",
    "print(\"Data inserted using to_list()\")"
   ]
  },
  {
   "cell_type": "markdown",
   "metadata": {},
   "source": [
    "INCIDENCE_RATE"
   ]
  },
  {
   "cell_type": "code",
   "execution_count": 93,
   "metadata": {},
   "outputs": [
    {
     "data": {
      "text/html": [
       "<div>\n",
       "<style scoped>\n",
       "    .dataframe tbody tr th:only-of-type {\n",
       "        vertical-align: middle;\n",
       "    }\n",
       "\n",
       "    .dataframe tbody tr th {\n",
       "        vertical-align: top;\n",
       "    }\n",
       "\n",
       "    .dataframe thead th {\n",
       "        text-align: right;\n",
       "    }\n",
       "</style>\n",
       "<table border=\"1\" class=\"dataframe\">\n",
       "  <thead>\n",
       "    <tr style=\"text-align: right;\">\n",
       "      <th></th>\n",
       "      <th>GROUP_TYPE</th>\n",
       "      <th>CODE</th>\n",
       "      <th>NAME</th>\n",
       "      <th>YEAR</th>\n",
       "      <th>DISEASE</th>\n",
       "      <th>DISEASE_DESCRIPTION</th>\n",
       "      <th>DENOMINATOR</th>\n",
       "      <th>INCIDENCE_RATE</th>\n",
       "      <th>replaced_with_mean</th>\n",
       "    </tr>\n",
       "  </thead>\n",
       "  <tbody>\n",
       "    <tr>\n",
       "      <th>62349</th>\n",
       "      <td>COUNTRIES</td>\n",
       "      <td>PRT</td>\n",
       "      <td>Portugal</td>\n",
       "      <td>2013.0</td>\n",
       "      <td>JAPENC</td>\n",
       "      <td>Japanese encephalitis</td>\n",
       "      <td>per 1,000,000 total population</td>\n",
       "      <td>11.76231</td>\n",
       "      <td>True</td>\n",
       "    </tr>\n",
       "  </tbody>\n",
       "</table>\n",
       "</div>"
      ],
      "text/plain": [
       "      GROUP_TYPE CODE      NAME    YEAR DISEASE    DISEASE_DESCRIPTION  \\\n",
       "62349  COUNTRIES  PRT  Portugal  2013.0  JAPENC  Japanese encephalitis   \n",
       "\n",
       "                          DENOMINATOR  INCIDENCE_RATE  replaced_with_mean  \n",
       "62349  per 1,000,000 total population        11.76231                True  "
      ]
     },
     "execution_count": 93,
     "metadata": {},
     "output_type": "execute_result"
    }
   ],
   "source": [
    "incidence_data.sample()"
   ]
  },
  {
   "cell_type": "code",
   "execution_count": 94,
   "metadata": {},
   "outputs": [],
   "source": [
    "incidence_data.rename(columns={\"GROUP\":\"GROUP_TYPE\"},inplace=True)"
   ]
  },
  {
   "cell_type": "code",
   "execution_count": 95,
   "metadata": {},
   "outputs": [
    {
     "data": {
      "text/html": [
       "<div>\n",
       "<style scoped>\n",
       "    .dataframe tbody tr th:only-of-type {\n",
       "        vertical-align: middle;\n",
       "    }\n",
       "\n",
       "    .dataframe tbody tr th {\n",
       "        vertical-align: top;\n",
       "    }\n",
       "\n",
       "    .dataframe thead th {\n",
       "        text-align: right;\n",
       "    }\n",
       "</style>\n",
       "<table border=\"1\" class=\"dataframe\">\n",
       "  <thead>\n",
       "    <tr style=\"text-align: right;\">\n",
       "      <th></th>\n",
       "      <th>GROUP_TYPE</th>\n",
       "      <th>CODE</th>\n",
       "      <th>NAME</th>\n",
       "      <th>YEAR</th>\n",
       "      <th>DISEASE</th>\n",
       "      <th>DISEASE_DESCRIPTION</th>\n",
       "      <th>DENOMINATOR</th>\n",
       "      <th>INCIDENCE_RATE</th>\n",
       "      <th>replaced_with_mean</th>\n",
       "    </tr>\n",
       "  </thead>\n",
       "  <tbody>\n",
       "    <tr>\n",
       "      <th>69395</th>\n",
       "      <td>COUNTRIES</td>\n",
       "      <td>SRB</td>\n",
       "      <td>Serbia</td>\n",
       "      <td>2002.0</td>\n",
       "      <td>YFEVER</td>\n",
       "      <td>Yellow fever</td>\n",
       "      <td>per 1,000,000 total population</td>\n",
       "      <td>0.0</td>\n",
       "      <td>False</td>\n",
       "    </tr>\n",
       "  </tbody>\n",
       "</table>\n",
       "</div>"
      ],
      "text/plain": [
       "      GROUP_TYPE CODE    NAME    YEAR DISEASE DISEASE_DESCRIPTION  \\\n",
       "69395  COUNTRIES  SRB  Serbia  2002.0  YFEVER        Yellow fever   \n",
       "\n",
       "                          DENOMINATOR  INCIDENCE_RATE  replaced_with_mean  \n",
       "69395  per 1,000,000 total population             0.0               False  "
      ]
     },
     "execution_count": 95,
     "metadata": {},
     "output_type": "execute_result"
    }
   ],
   "source": [
    "incidence_data.sample()"
   ]
  },
  {
   "cell_type": "code",
   "execution_count": 119,
   "metadata": {},
   "outputs": [],
   "source": [
    "create_table_query=\"\"\"\n",
    "CREATE TABLE IF NOT exists incidence_data(\n",
    "    GROUP_TYPE varchar(300),\n",
    "    CODE varchar(300),\n",
    "    NAME varchar(300),\n",
    "    YEAR int,\n",
    "    DISEASE varchar(300),\n",
    "    DISEASE_DESCRIPTION varchar(300),\n",
    "    DENOMINATOR text,\n",
    "    INCIDENCE_RATE int,\n",
    "    replaced_with_mean varchar(300)\n",
    "    )\n",
    "\"\"\"\n",
    "cursor.execute(create_table_query)\n",
    "connection.commit()"
   ]
  },
  {
   "cell_type": "code",
   "execution_count": 120,
   "metadata": {},
   "outputs": [
    {
     "name": "stdout",
     "output_type": "stream",
     "text": [
      "Data inserted using to_list()\n"
     ]
    }
   ],
   "source": [
    "data_list = incidence_data.values.tolist()\n",
    "query = \"\"\"\n",
    "    INSERT INTO incidence_data( GROUP_TYPE,CODE,NAME,YEAR,DISEASE,DISEASE_DESCRIPTION,DENOMINATOR,INCIDENCE_RATE,replaced_with_mean) \n",
    "    VALUES (%s, %s, %s, %s, %s, %s,%s,%s,%s);\n",
    "\"\"\"\n",
    "cursor.executemany(query, data_list)\n",
    "connection.commit()\n",
    "print(\"Data inserted using to_list()\")"
   ]
  },
  {
   "cell_type": "markdown",
   "metadata": {},
   "source": [
    "REPORTED CASE"
   ]
  },
  {
   "cell_type": "code",
   "execution_count": 113,
   "metadata": {},
   "outputs": [
    {
     "data": {
      "text/html": [
       "<div>\n",
       "<style scoped>\n",
       "    .dataframe tbody tr th:only-of-type {\n",
       "        vertical-align: middle;\n",
       "    }\n",
       "\n",
       "    .dataframe tbody tr th {\n",
       "        vertical-align: top;\n",
       "    }\n",
       "\n",
       "    .dataframe thead th {\n",
       "        text-align: right;\n",
       "    }\n",
       "</style>\n",
       "<table border=\"1\" class=\"dataframe\">\n",
       "  <thead>\n",
       "    <tr style=\"text-align: right;\">\n",
       "      <th></th>\n",
       "      <th>GROUP_TYPE</th>\n",
       "      <th>CODE</th>\n",
       "      <th>NAME</th>\n",
       "      <th>YEAR</th>\n",
       "      <th>DISEASE</th>\n",
       "      <th>DISEASE_DESCRIPTION</th>\n",
       "      <th>CASES</th>\n",
       "    </tr>\n",
       "  </thead>\n",
       "  <tbody>\n",
       "    <tr>\n",
       "      <th>48841</th>\n",
       "      <td>COUNTRIES</td>\n",
       "      <td>MEX</td>\n",
       "      <td>Mexico</td>\n",
       "      <td>1997.0</td>\n",
       "      <td>RUBELLA</td>\n",
       "      <td>Rubella</td>\n",
       "      <td>38042.0</td>\n",
       "    </tr>\n",
       "  </tbody>\n",
       "</table>\n",
       "</div>"
      ],
      "text/plain": [
       "      GROUP_TYPE CODE    NAME    YEAR  DISEASE DISEASE_DESCRIPTION    CASES\n",
       "48841  COUNTRIES  MEX  Mexico  1997.0  RUBELLA             Rubella  38042.0"
      ]
     },
     "execution_count": 113,
     "metadata": {},
     "output_type": "execute_result"
    }
   ],
   "source": [
    "reported_case.sample()"
   ]
  },
  {
   "cell_type": "code",
   "execution_count": 116,
   "metadata": {},
   "outputs": [],
   "source": [
    "create_table_query=\"\"\"\n",
    "CREATE TABLE IF NOT exists reported_case(\n",
    "    GROUP_TYPE varchar(300),\n",
    "    CODE varchar(300),\n",
    "    NAME varchar(300),\n",
    "    YEAR int,\n",
    "    DISEASE varchar(300),\n",
    "    DISEASE_DESCRIPTION varchar(300),\n",
    "    CASES int\n",
    "    )\n",
    "\"\"\"\n",
    "cursor.execute(create_table_query)\n",
    "connection.commit()"
   ]
  },
  {
   "cell_type": "code",
   "execution_count": null,
   "metadata": {},
   "outputs": [
    {
     "name": "stdout",
     "output_type": "stream",
     "text": [
      "Data inserted using to_list()\n"
     ]
    }
   ],
   "source": [
    "data_list = reported_case.values.tolist()\n",
    "query = \"\"\"\n",
    "    INSERT INTO reported_case( GROUP_TYPE,CODE,NAME,YEAR,DISEASE,DISEASE_DESCRIPTION,CASES) \n",
    "    VALUES (%s, %s, %s, %s, %s, %s);\n",
    "\"\"\"\n",
    "cursor.executemany(query, data_list)\n",
    "connection.commit()\n",
    "print(\"Data inserted using to_list()\")"
   ]
  }
 ],
 "metadata": {
  "kernelspec": {
   "display_name": "Python 3",
   "language": "python",
   "name": "python3"
  },
  "language_info": {
   "codemirror_mode": {
    "name": "ipython",
    "version": 3
   },
   "file_extension": ".py",
   "mimetype": "text/x-python",
   "name": "python",
   "nbconvert_exporter": "python",
   "pygments_lexer": "ipython3",
   "version": "3.12.10"
  }
 },
 "nbformat": 4,
 "nbformat_minor": 2
}
